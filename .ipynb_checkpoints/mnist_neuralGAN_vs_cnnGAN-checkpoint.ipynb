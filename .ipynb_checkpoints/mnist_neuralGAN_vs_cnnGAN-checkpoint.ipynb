{
 "cells": [
  {
   "cell_type": "code",
   "execution_count": 4,
   "metadata": {
    "scrolled": false
   },
   "outputs": [
    {
     "data": {
      "image/svg+xml": [
       "<svg height=\"191pt\" viewBox=\"0.00 0.00 157.00 191.00\" width=\"157pt\" xmlns=\"http://www.w3.org/2000/svg\" xmlns:xlink=\"http://www.w3.org/1999/xlink\">\n",
       "<g class=\"graph\" id=\"graph0\" transform=\"scale(1 1) rotate(0) translate(4 187)\">\n",
       "<title>G</title>\n",
       "<polygon fill=\"white\" points=\"-4,4 -4,-187 153,-187 153,4 -4,4\" stroke=\"none\"/>\n",
       "<!-- 2099373095904 -->\n",
       "<g class=\"node\" id=\"node1\"><title>2099373095904</title>\n",
       "<polygon fill=\"none\" points=\"11.5,-146.5 11.5,-182.5 137.5,-182.5 137.5,-146.5 11.5,-146.5\" stroke=\"black\"/>\n",
       "<text font-family=\"Times New Roman,serif\" font-size=\"14.00\" text-anchor=\"middle\" x=\"74.5\" y=\"-160.8\">input_3: InputLayer</text>\n",
       "</g>\n",
       "<!-- 2099357224408 -->\n",
       "<g class=\"node\" id=\"node2\"><title>2099357224408</title>\n",
       "<polygon fill=\"none\" points=\"0,-73.5 0,-109.5 149,-109.5 149,-73.5 0,-73.5\" stroke=\"black\"/>\n",
       "<text font-family=\"Times New Roman,serif\" font-size=\"14.00\" text-anchor=\"middle\" x=\"74.5\" y=\"-87.8\">sequential_7: Sequential</text>\n",
       "</g>\n",
       "<!-- 2099373095904&#45;&gt;2099357224408 -->\n",
       "<g class=\"edge\" id=\"edge1\"><title>2099373095904-&gt;2099357224408</title>\n",
       "<path d=\"M74.5,-146.313C74.5,-138.289 74.5,-128.547 74.5,-119.569\" fill=\"none\" stroke=\"black\"/>\n",
       "<polygon fill=\"black\" points=\"78.0001,-119.529 74.5,-109.529 71.0001,-119.529 78.0001,-119.529\" stroke=\"black\"/>\n",
       "</g>\n",
       "<!-- 2099356332888 -->\n",
       "<g class=\"node\" id=\"node3\"><title>2099356332888</title>\n",
       "<polygon fill=\"none\" points=\"0,-0.5 0,-36.5 149,-36.5 149,-0.5 0,-0.5\" stroke=\"black\"/>\n",
       "<text font-family=\"Times New Roman,serif\" font-size=\"14.00\" text-anchor=\"middle\" x=\"74.5\" y=\"-14.8\">sequential_8: Sequential</text>\n",
       "</g>\n",
       "<!-- 2099357224408&#45;&gt;2099356332888 -->\n",
       "<g class=\"edge\" id=\"edge2\"><title>2099357224408-&gt;2099356332888</title>\n",
       "<path d=\"M74.5,-73.3129C74.5,-65.2895 74.5,-55.5475 74.5,-46.5691\" fill=\"none\" stroke=\"black\"/>\n",
       "<polygon fill=\"black\" points=\"78.0001,-46.5288 74.5,-36.5288 71.0001,-46.5289 78.0001,-46.5288\" stroke=\"black\"/>\n",
       "</g>\n",
       "</g>\n",
       "</svg>"
      ],
      "text/plain": [
       "<IPython.core.display.SVG object>"
      ]
     },
     "metadata": {},
     "output_type": "display_data"
    },
    {
     "name": "stdout",
     "output_type": "stream",
     "text": [
      "\n",
      "Epochs: 50\n",
      "Batch size: 128\n",
      "Batches per epoch: 468\n",
      "--------------- Epoch 1 ---------------\n"
     ]
    },
    {
     "name": "stderr",
     "output_type": "stream",
     "text": [
      "\n",
      "  0%|                                                                                          | 0/468 [00:00<?, ?it/s]\n",
      "Exception in thread Thread-8:\n",
      "Traceback (most recent call last):\n",
      "  File \"C:\\Anaconda3\\envs\\tf-gpu\\lib\\threading.py\", line 916, in _bootstrap_inner\n",
      "    self.run()\n",
      "  File \"C:\\Anaconda3\\envs\\tf-gpu\\lib\\site-packages\\tqdm\\_tqdm.py\", line 144, in run\n",
      "    for instance in self.tqdm_cls._instances:\n",
      "  File \"C:\\Anaconda3\\envs\\tf-gpu\\lib\\_weakrefset.py\", line 60, in __iter__\n",
      "    for itemref in self.data:\n",
      "RuntimeError: Set changed size during iteration\n",
      "\n",
      "100%|████████████████████████████████████████████████████████████████████████████████| 468/468 [01:11<00:00,  6.56it/s]\n",
      "C:\\Anaconda3\\Lib\\site-packages\\matplotlib\\pyplot.py:524: RuntimeWarning: More than 20 figures have been opened. Figures created through the pyplot interface (`matplotlib.pyplot.figure`) are retained until explicitly closed and may consume too much memory. (To control this warning, see the rcParam `figure.max_open_warning`).\n",
      "  max_open_warning, RuntimeWarning)\n"
     ]
    },
    {
     "name": "stdout",
     "output_type": "stream",
     "text": [
      "--------------- Epoch 2 ---------------\n"
     ]
    },
    {
     "name": "stderr",
     "output_type": "stream",
     "text": [
      "100%|████████████████████████████████████████████████████████████████████████████████| 468/468 [01:08<00:00,  6.84it/s]\n"
     ]
    },
    {
     "name": "stdout",
     "output_type": "stream",
     "text": [
      "--------------- Epoch 3 ---------------\n"
     ]
    },
    {
     "name": "stderr",
     "output_type": "stream",
     "text": [
      "100%|████████████████████████████████████████████████████████████████████████████████| 468/468 [01:08<00:00,  6.83it/s]\n"
     ]
    },
    {
     "name": "stdout",
     "output_type": "stream",
     "text": [
      "--------------- Epoch 4 ---------------\n"
     ]
    },
    {
     "name": "stderr",
     "output_type": "stream",
     "text": [
      "100%|████████████████████████████████████████████████████████████████████████████████| 468/468 [01:08<00:00,  6.83it/s]\n"
     ]
    },
    {
     "name": "stdout",
     "output_type": "stream",
     "text": [
      "--------------- Epoch 5 ---------------\n"
     ]
    },
    {
     "name": "stderr",
     "output_type": "stream",
     "text": [
      "100%|████████████████████████████████████████████████████████████████████████████████| 468/468 [01:08<00:00,  6.83it/s]\n"
     ]
    },
    {
     "name": "stdout",
     "output_type": "stream",
     "text": [
      "--------------- Epoch 6 ---------------\n"
     ]
    },
    {
     "name": "stderr",
     "output_type": "stream",
     "text": [
      "100%|████████████████████████████████████████████████████████████████████████████████| 468/468 [01:08<00:00,  6.83it/s]\n"
     ]
    },
    {
     "name": "stdout",
     "output_type": "stream",
     "text": [
      "--------------- Epoch 7 ---------------\n"
     ]
    },
    {
     "name": "stderr",
     "output_type": "stream",
     "text": [
      "100%|████████████████████████████████████████████████████████████████████████████████| 468/468 [01:08<00:00,  6.83it/s]\n"
     ]
    },
    {
     "name": "stdout",
     "output_type": "stream",
     "text": [
      "--------------- Epoch 8 ---------------\n"
     ]
    },
    {
     "name": "stderr",
     "output_type": "stream",
     "text": [
      "100%|████████████████████████████████████████████████████████████████████████████████| 468/468 [01:08<00:00,  6.85it/s]\n"
     ]
    },
    {
     "name": "stdout",
     "output_type": "stream",
     "text": [
      "--------------- Epoch 9 ---------------\n"
     ]
    },
    {
     "name": "stderr",
     "output_type": "stream",
     "text": [
      "100%|████████████████████████████████████████████████████████████████████████████████| 468/468 [01:08<00:00,  6.84it/s]\n"
     ]
    },
    {
     "name": "stdout",
     "output_type": "stream",
     "text": [
      "--------------- Epoch 10 ---------------\n"
     ]
    },
    {
     "name": "stderr",
     "output_type": "stream",
     "text": [
      "100%|████████████████████████████████████████████████████████████████████████████████| 468/468 [01:08<00:00,  6.86it/s]\n"
     ]
    },
    {
     "name": "stdout",
     "output_type": "stream",
     "text": [
      "--------------- Epoch 11 ---------------\n"
     ]
    },
    {
     "name": "stderr",
     "output_type": "stream",
     "text": [
      "100%|████████████████████████████████████████████████████████████████████████████████| 468/468 [01:08<00:00,  6.83it/s]\n"
     ]
    },
    {
     "name": "stdout",
     "output_type": "stream",
     "text": [
      "--------------- Epoch 12 ---------------\n"
     ]
    },
    {
     "name": "stderr",
     "output_type": "stream",
     "text": [
      "100%|████████████████████████████████████████████████████████████████████████████████| 468/468 [01:08<00:00,  6.83it/s]\n"
     ]
    },
    {
     "name": "stdout",
     "output_type": "stream",
     "text": [
      "--------------- Epoch 13 ---------------\n"
     ]
    },
    {
     "name": "stderr",
     "output_type": "stream",
     "text": [
      "100%|████████████████████████████████████████████████████████████████████████████████| 468/468 [01:08<00:00,  6.83it/s]\n"
     ]
    },
    {
     "name": "stdout",
     "output_type": "stream",
     "text": [
      "--------------- Epoch 14 ---------------\n"
     ]
    },
    {
     "name": "stderr",
     "output_type": "stream",
     "text": [
      "100%|████████████████████████████████████████████████████████████████████████████████| 468/468 [01:08<00:00,  6.84it/s]\n"
     ]
    },
    {
     "name": "stdout",
     "output_type": "stream",
     "text": [
      "--------------- Epoch 15 ---------------\n"
     ]
    },
    {
     "name": "stderr",
     "output_type": "stream",
     "text": [
      "100%|████████████████████████████████████████████████████████████████████████████████| 468/468 [01:08<00:00,  6.85it/s]\n"
     ]
    },
    {
     "name": "stdout",
     "output_type": "stream",
     "text": [
      "--------------- Epoch 16 ---------------\n"
     ]
    },
    {
     "name": "stderr",
     "output_type": "stream",
     "text": [
      "100%|████████████████████████████████████████████████████████████████████████████████| 468/468 [01:08<00:00,  6.86it/s]\n"
     ]
    },
    {
     "name": "stdout",
     "output_type": "stream",
     "text": [
      "--------------- Epoch 17 ---------------\n"
     ]
    },
    {
     "name": "stderr",
     "output_type": "stream",
     "text": [
      "100%|████████████████████████████████████████████████████████████████████████████████| 468/468 [01:08<00:00,  6.86it/s]\n"
     ]
    },
    {
     "name": "stdout",
     "output_type": "stream",
     "text": [
      "--------------- Epoch 18 ---------------\n"
     ]
    },
    {
     "name": "stderr",
     "output_type": "stream",
     "text": [
      "100%|████████████████████████████████████████████████████████████████████████████████| 468/468 [01:08<00:00,  6.86it/s]\n"
     ]
    },
    {
     "name": "stdout",
     "output_type": "stream",
     "text": [
      "--------------- Epoch 19 ---------------\n"
     ]
    },
    {
     "name": "stderr",
     "output_type": "stream",
     "text": [
      "100%|████████████████████████████████████████████████████████████████████████████████| 468/468 [01:08<00:00,  6.86it/s]\n"
     ]
    },
    {
     "name": "stdout",
     "output_type": "stream",
     "text": [
      "--------------- Epoch 20 ---------------\n"
     ]
    },
    {
     "name": "stderr",
     "output_type": "stream",
     "text": [
      "100%|████████████████████████████████████████████████████████████████████████████████| 468/468 [01:08<00:00,  6.86it/s]\n"
     ]
    },
    {
     "name": "stdout",
     "output_type": "stream",
     "text": [
      "--------------- Epoch 21 ---------------\n"
     ]
    },
    {
     "name": "stderr",
     "output_type": "stream",
     "text": [
      "100%|████████████████████████████████████████████████████████████████████████████████| 468/468 [01:08<00:00,  6.85it/s]\n"
     ]
    },
    {
     "name": "stdout",
     "output_type": "stream",
     "text": [
      "--------------- Epoch 22 ---------------\n"
     ]
    },
    {
     "name": "stderr",
     "output_type": "stream",
     "text": [
      "100%|████████████████████████████████████████████████████████████████████████████████| 468/468 [01:08<00:00,  6.87it/s]\n"
     ]
    },
    {
     "name": "stdout",
     "output_type": "stream",
     "text": [
      "--------------- Epoch 23 ---------------\n"
     ]
    },
    {
     "name": "stderr",
     "output_type": "stream",
     "text": [
      "100%|████████████████████████████████████████████████████████████████████████████████| 468/468 [01:08<00:00,  6.87it/s]\n"
     ]
    },
    {
     "name": "stdout",
     "output_type": "stream",
     "text": [
      "--------------- Epoch 24 ---------------\n"
     ]
    },
    {
     "name": "stderr",
     "output_type": "stream",
     "text": [
      "100%|████████████████████████████████████████████████████████████████████████████████| 468/468 [01:08<00:00,  6.87it/s]\n"
     ]
    },
    {
     "name": "stdout",
     "output_type": "stream",
     "text": [
      "--------------- Epoch 25 ---------------\n"
     ]
    },
    {
     "name": "stderr",
     "output_type": "stream",
     "text": [
      "100%|████████████████████████████████████████████████████████████████████████████████| 468/468 [01:08<00:00,  6.85it/s]\n"
     ]
    },
    {
     "name": "stdout",
     "output_type": "stream",
     "text": [
      "--------------- Epoch 26 ---------------\n"
     ]
    },
    {
     "name": "stderr",
     "output_type": "stream",
     "text": [
      "100%|████████████████████████████████████████████████████████████████████████████████| 468/468 [01:08<00:00,  6.84it/s]\n"
     ]
    },
    {
     "name": "stdout",
     "output_type": "stream",
     "text": [
      "--------------- Epoch 27 ---------------\n"
     ]
    },
    {
     "name": "stderr",
     "output_type": "stream",
     "text": [
      "100%|████████████████████████████████████████████████████████████████████████████████| 468/468 [01:08<00:00,  6.83it/s]\n"
     ]
    },
    {
     "name": "stdout",
     "output_type": "stream",
     "text": [
      "--------------- Epoch 28 ---------------\n"
     ]
    },
    {
     "name": "stderr",
     "output_type": "stream",
     "text": [
      "100%|████████████████████████████████████████████████████████████████████████████████| 468/468 [01:08<00:00,  6.83it/s]\n"
     ]
    },
    {
     "name": "stdout",
     "output_type": "stream",
     "text": [
      "--------------- Epoch 29 ---------------\n"
     ]
    },
    {
     "name": "stderr",
     "output_type": "stream",
     "text": [
      "100%|████████████████████████████████████████████████████████████████████████████████| 468/468 [01:08<00:00,  6.86it/s]\n"
     ]
    },
    {
     "name": "stdout",
     "output_type": "stream",
     "text": [
      "--------------- Epoch 30 ---------------\n"
     ]
    },
    {
     "name": "stderr",
     "output_type": "stream",
     "text": [
      "100%|████████████████████████████████████████████████████████████████████████████████| 468/468 [01:08<00:00,  6.84it/s]\n"
     ]
    },
    {
     "name": "stdout",
     "output_type": "stream",
     "text": [
      "--------------- Epoch 31 ---------------\n"
     ]
    },
    {
     "name": "stderr",
     "output_type": "stream",
     "text": [
      "100%|████████████████████████████████████████████████████████████████████████████████| 468/468 [01:08<00:00,  6.83it/s]\n"
     ]
    },
    {
     "name": "stdout",
     "output_type": "stream",
     "text": [
      "--------------- Epoch 32 ---------------\n"
     ]
    },
    {
     "name": "stderr",
     "output_type": "stream",
     "text": [
      "100%|████████████████████████████████████████████████████████████████████████████████| 468/468 [01:08<00:00,  6.83it/s]\n"
     ]
    },
    {
     "name": "stdout",
     "output_type": "stream",
     "text": [
      "--------------- Epoch 33 ---------------\n"
     ]
    },
    {
     "name": "stderr",
     "output_type": "stream",
     "text": [
      "100%|████████████████████████████████████████████████████████████████████████████████| 468/468 [01:08<00:00,  6.82it/s]\n"
     ]
    },
    {
     "name": "stdout",
     "output_type": "stream",
     "text": [
      "--------------- Epoch 34 ---------------\n"
     ]
    },
    {
     "name": "stderr",
     "output_type": "stream",
     "text": [
      "100%|████████████████████████████████████████████████████████████████████████████████| 468/468 [01:08<00:00,  6.81it/s]\n"
     ]
    },
    {
     "name": "stdout",
     "output_type": "stream",
     "text": [
      "--------------- Epoch 35 ---------------\n"
     ]
    },
    {
     "name": "stderr",
     "output_type": "stream",
     "text": [
      "100%|████████████████████████████████████████████████████████████████████████████████| 468/468 [01:08<00:00,  6.82it/s]\n"
     ]
    },
    {
     "name": "stdout",
     "output_type": "stream",
     "text": [
      "--------------- Epoch 36 ---------------\n"
     ]
    },
    {
     "name": "stderr",
     "output_type": "stream",
     "text": [
      "100%|████████████████████████████████████████████████████████████████████████████████| 468/468 [01:08<00:00,  6.81it/s]\n"
     ]
    },
    {
     "name": "stdout",
     "output_type": "stream",
     "text": [
      "--------------- Epoch 37 ---------------\n"
     ]
    },
    {
     "name": "stderr",
     "output_type": "stream",
     "text": [
      "100%|████████████████████████████████████████████████████████████████████████████████| 468/468 [01:08<00:00,  6.82it/s]\n"
     ]
    },
    {
     "name": "stdout",
     "output_type": "stream",
     "text": [
      "--------------- Epoch 38 ---------------\n"
     ]
    },
    {
     "name": "stderr",
     "output_type": "stream",
     "text": [
      "100%|████████████████████████████████████████████████████████████████████████████████| 468/468 [01:08<00:00,  6.82it/s]\n"
     ]
    },
    {
     "name": "stdout",
     "output_type": "stream",
     "text": [
      "--------------- Epoch 39 ---------------\n"
     ]
    },
    {
     "name": "stderr",
     "output_type": "stream",
     "text": [
      "100%|████████████████████████████████████████████████████████████████████████████████| 468/468 [01:08<00:00,  6.81it/s]\n"
     ]
    },
    {
     "name": "stdout",
     "output_type": "stream",
     "text": [
      "--------------- Epoch 40 ---------------\n"
     ]
    },
    {
     "name": "stderr",
     "output_type": "stream",
     "text": [
      "100%|████████████████████████████████████████████████████████████████████████████████| 468/468 [01:08<00:00,  6.81it/s]\n"
     ]
    },
    {
     "name": "stdout",
     "output_type": "stream",
     "text": [
      "--------------- Epoch 41 ---------------\n"
     ]
    },
    {
     "name": "stderr",
     "output_type": "stream",
     "text": [
      "100%|████████████████████████████████████████████████████████████████████████████████| 468/468 [01:08<00:00,  6.83it/s]\n"
     ]
    },
    {
     "name": "stdout",
     "output_type": "stream",
     "text": [
      "--------------- Epoch 42 ---------------\n"
     ]
    },
    {
     "name": "stderr",
     "output_type": "stream",
     "text": [
      "100%|████████████████████████████████████████████████████████████████████████████████| 468/468 [01:08<00:00,  6.83it/s]\n"
     ]
    },
    {
     "name": "stdout",
     "output_type": "stream",
     "text": [
      "--------------- Epoch 43 ---------------\n"
     ]
    },
    {
     "name": "stderr",
     "output_type": "stream",
     "text": [
      "100%|████████████████████████████████████████████████████████████████████████████████| 468/468 [01:08<00:00,  6.83it/s]\n"
     ]
    },
    {
     "name": "stdout",
     "output_type": "stream",
     "text": [
      "--------------- Epoch 44 ---------------\n"
     ]
    },
    {
     "name": "stderr",
     "output_type": "stream",
     "text": [
      "100%|████████████████████████████████████████████████████████████████████████████████| 468/468 [01:08<00:00,  6.83it/s]\n"
     ]
    },
    {
     "name": "stdout",
     "output_type": "stream",
     "text": [
      "--------------- Epoch 45 ---------------\n"
     ]
    },
    {
     "name": "stderr",
     "output_type": "stream",
     "text": [
      "100%|████████████████████████████████████████████████████████████████████████████████| 468/468 [01:08<00:00,  6.83it/s]\n"
     ]
    },
    {
     "name": "stdout",
     "output_type": "stream",
     "text": [
      "--------------- Epoch 46 ---------------\n"
     ]
    },
    {
     "name": "stderr",
     "output_type": "stream",
     "text": [
      "100%|████████████████████████████████████████████████████████████████████████████████| 468/468 [01:08<00:00,  6.83it/s]\n"
     ]
    },
    {
     "name": "stdout",
     "output_type": "stream",
     "text": [
      "--------------- Epoch 47 ---------------\n"
     ]
    },
    {
     "name": "stderr",
     "output_type": "stream",
     "text": [
      "100%|████████████████████████████████████████████████████████████████████████████████| 468/468 [01:08<00:00,  6.83it/s]\n"
     ]
    },
    {
     "name": "stdout",
     "output_type": "stream",
     "text": [
      "--------------- Epoch 48 ---------------\n"
     ]
    },
    {
     "name": "stderr",
     "output_type": "stream",
     "text": [
      "100%|████████████████████████████████████████████████████████████████████████████████| 468/468 [01:08<00:00,  6.83it/s]\n"
     ]
    },
    {
     "name": "stdout",
     "output_type": "stream",
     "text": [
      "--------------- Epoch 49 ---------------\n"
     ]
    },
    {
     "name": "stderr",
     "output_type": "stream",
     "text": [
      "100%|████████████████████████████████████████████████████████████████████████████████| 468/468 [01:08<00:00,  6.83it/s]\n"
     ]
    },
    {
     "name": "stdout",
     "output_type": "stream",
     "text": [
      "--------------- Epoch 50 ---------------\n"
     ]
    },
    {
     "name": "stderr",
     "output_type": "stream",
     "text": [
      "100%|████████████████████████████████████████████████████████████████████████████████| 468/468 [01:08<00:00,  6.83it/s]\n"
     ]
    }
   ],
   "source": [
    "import numpy as np\n",
    "from tqdm import tqdm\n",
    "import matplotlib.pyplot as plt\n",
    "from IPython.display import SVG, display\n",
    "from keras.utils.vis_utils import model_to_dot\n",
    "import os\n",
    "from keras.layers import Input\n",
    "from keras.models import Model, Sequential\n",
    "from keras.layers.core import Reshape, Dense, Dropout, Flatten\n",
    "from keras.layers.advanced_activations import LeakyReLU\n",
    "from keras.layers.convolutional import Conv2D, UpSampling2D\n",
    "from keras.datasets import mnist\n",
    "from keras.optimizers import Adam\n",
    "from keras import backend as K\n",
    "from keras import initializers\n",
    "import cv2\n",
    "K.set_image_dim_ordering('th')\n",
    "\n",
    "np.random.seed(1000)\n",
    "\n",
    "randomDim = 100\n",
    "\n",
    "# Load MNIST data\n",
    "(X_train, y_train), (X_test, y_test) = mnist.load_data()\n",
    "X_train = (X_train.astype(np.float32) - 127.5)/127.5\n",
    "X_train = X_train[:, np.newaxis, :, :]\n",
    "\n",
    "# Optimizer\n",
    "adam = Adam(lr=0.0002, beta_1=0.5)\n",
    "\n",
    "# Generator\n",
    "generator = Sequential()\n",
    "generator.add(Dense(128*7*7, input_dim=randomDim, kernel_initializer=initializers.RandomNormal(stddev=0.02)))\n",
    "generator.add(LeakyReLU(0.2))\n",
    "generator.add(Reshape((128, 7, 7)))\n",
    "generator.add(UpSampling2D(size=(2, 2)))\n",
    "generator.add(Conv2D(16, kernel_size=(3, 3), padding='same'))\n",
    "generator.add(LeakyReLU(0.2))\n",
    "generator.add(UpSampling2D(size=(2, 2)))\n",
    "generator.add(Conv2D(1, kernel_size=(3, 3), padding='same', activation='tanh'))\n",
    "generator.compile(loss='binary_crossentropy', optimizer=adam)\n",
    "\n",
    "# Discriminator\n",
    "discriminator = Sequential()\n",
    "discriminator.add(Conv2D(16, kernel_size=(3, 3), strides=(1, 1), padding='same', input_shape=(1, 28, 28), kernel_initializer=initializers.RandomNormal(stddev=0.02)))\n",
    "discriminator.add(LeakyReLU(0.2))\n",
    "discriminator.add(Dropout(0.2))\n",
    "# discriminator.add(Conv2D(128, kernel_size=(3, 3), strides=(1, 1), padding='same'))\n",
    "# discriminator.add(LeakyReLU(0.2))\n",
    "# discriminator.add(Dropout(0.2))\n",
    "discriminator.add(Conv2D(32, kernel_size=(3, 3), strides=(1, 1), padding='same'))\n",
    "discriminator.add(LeakyReLU(0.2))\n",
    "discriminator.add(Dropout(0.2))\n",
    "discriminator.add(Flatten())\n",
    "discriminator.add(Dense(1, activation='sigmoid'))\n",
    "discriminator.compile(loss='binary_crossentropy', optimizer=adam)\n",
    "\n",
    "discriminator.trainable = False\n",
    "ganInput = Input(shape=(randomDim,))\n",
    "x = generator(ganInput)\n",
    "ganOutput = discriminator(x)\n",
    "gan = Model(inputs=ganInput, outputs=ganOutput)\n",
    "# gan.layers[1].name = \"Generator_Network\"\n",
    "# gan.layers[2].name = \"Discriminator_Network\"\n",
    "gan.compile(loss='binary_crossentropy', optimizer=adam)\n",
    "\n",
    "display(SVG(model_to_dot(gan).create(prog='dot', format='svg')))\n",
    "\n",
    "dLosses = []\n",
    "gLosses = []\n",
    "\n",
    "def plotLoss(epoch):\n",
    "    plt.figure(figsize=(10, 8))\n",
    "    plt.plot(dLosses, label='Discriminitive loss')\n",
    "    plt.plot(gLosses, label='Generative loss')\n",
    "    plt.xlabel('Epoch')\n",
    "    plt.ylabel('Loss')\n",
    "    plt.legend()\n",
    "    plt.savefig('images/gan_cnn/dcgan_%d_loss_epoch.png' % epoch)\n",
    "\n",
    "def plotGeneratedImages(epoch, examples=100, dim=(1, 1), figsize=(2, 2)):\n",
    "    randomDim = 100\n",
    "    examples=1\n",
    "    \n",
    "    for counter in range(0,50):\n",
    "        noise = np.random.normal(0, 1, size=[examples, randomDim])\n",
    "        generatedImages = generator.predict(noise)\n",
    "        generatedImages = generatedImages.reshape(examples, 28, 28)\n",
    "        # generatedImages.shape\n",
    "        plt.subplot(2, 2, 1)\n",
    "        plt.figure(figsize=(2,2))\n",
    "        plt.imshow(generatedImages[0], cmap = 'gray_r', interpolation = 'bicubic')\n",
    "        plt.xticks([]), plt.yticks([])  # to hide tick values on X and Y axis  \n",
    "        plt.tight_layout()\n",
    "        fol = 'images/gan_cnn/digits/epoch_'+str(epoch)+'/'\n",
    "        if not os.path.exists(fol):\n",
    "            os.makedirs(fol)\n",
    "        plt.savefig(fol+'random_%d.png' % counter)\n",
    "    \n",
    "    \n",
    "def saveModels(epoch):\n",
    "    fol = 'models/gan_cnn/'\n",
    "    if not os.path.exists(fol):\n",
    "        os.makedirs(fol)\n",
    "    generator.save(fol+'dcgan_generator_epoch_%d.h5' % epoch)\n",
    "    discriminator.save(fol+'dcgan_discriminator_epoch_%d.h5' % epoch)\n",
    "\n",
    "def train(epochs=1, batchSize=128):\n",
    "    batchCount = X_train.shape[0] / batchSize\n",
    "    print ('Epochs:', epochs)\n",
    "    print ('Batch size:', batchSize)\n",
    "    print ('Batches per epoch:', int(batchCount))\n",
    "\n",
    "    for e in range(1, epochs+1):\n",
    "        print ('-'*15, 'Epoch %d' % e, '-'*15)\n",
    "        for _ in tqdm(range(int(batchCount))):\n",
    "            # Get a random set of input noise and images\n",
    "            noise = np.random.normal(0, 1, size=[batchSize, randomDim])\n",
    "            imageBatch = X_train[np.random.randint(0, X_train.shape[0], size=batchSize)]\n",
    "\n",
    "            # Generate fake MNIST images\n",
    "            generatedImages = generator.predict(noise)\n",
    "            X = np.concatenate([imageBatch, generatedImages])\n",
    "#             print(X[0].reshape((28,28,1)).shape)\n",
    "#             cv2.imshow(\"img\",X[0].reshape((28,28,1)))\n",
    "#             cv2.waitKey(0)\n",
    "            \n",
    "#             cv2.imshow(\"img\",X[batchSize+1].reshape((28,28,1)))\n",
    "#             cv2.waitKey(0)\n",
    "            # Labels for generated and real data\n",
    "            yDis = np.zeros(2*batchSize)\n",
    "            # One-sided label smoothing\n",
    "            yDis[:batchSize] = 0.9\n",
    "\n",
    "            # Train discriminator\n",
    "            discriminator.trainable = True\n",
    "            dloss = discriminator.train_on_batch(X, yDis)\n",
    "\n",
    "            # Train generator\n",
    "            noise = np.random.normal(0, 1, size=[batchSize, randomDim])\n",
    "            yGen = np.ones(batchSize)\n",
    "            discriminator.trainable = False\n",
    "            gloss = gan.train_on_batch(noise, yGen)\n",
    "\n",
    "        # Store loss of most recent batch from this epoch\n",
    "        dLosses.append(dloss)\n",
    "        gLosses.append(gloss)\n",
    "\n",
    "        if e == 1 or e % 5 == 0:\n",
    "            plotGeneratedImages(e)\n",
    "            saveModels(e)\n",
    "\n",
    "    # Plot losses from every epoch\n",
    "    plotLoss(e)\n",
    "\n",
    "if __name__ == '__main__':\n",
    "    print(\"\")\n",
    "    train(50, 128)\n",
    "\n"
   ]
  },
  {
   "cell_type": "code",
   "execution_count": null,
   "metadata": {},
   "outputs": [],
   "source": [
    "discriminator.predict(X_train[0].reshape((1,1,28,28)))"
   ]
  },
  {
   "cell_type": "code",
   "execution_count": null,
   "metadata": {
    "collapsed": true
   },
   "outputs": [],
   "source": []
  },
  {
   "cell_type": "markdown",
   "metadata": {},
   "source": [
    "# Discriminator Model"
   ]
  },
  {
   "cell_type": "code",
   "execution_count": 6,
   "metadata": {},
   "outputs": [
    {
     "data": {
      "image/svg+xml": [
       "<svg height=\"719pt\" viewBox=\"0.00 0.00 359.00 719.00\" width=\"359pt\" xmlns=\"http://www.w3.org/2000/svg\" xmlns:xlink=\"http://www.w3.org/1999/xlink\">\n",
       "<g class=\"graph\" id=\"graph0\" transform=\"scale(1 1) rotate(0) translate(4 715)\">\n",
       "<title>G</title>\n",
       "<polygon fill=\"white\" points=\"-4,4 -4,-715 355,-715 355,4 -4,4\" stroke=\"none\"/>\n",
       "<!-- 2099368171952 -->\n",
       "<g class=\"node\" id=\"node1\"><title>2099368171952</title>\n",
       "<polygon fill=\"none\" points=\"0.5,-664.5 0.5,-710.5 350.5,-710.5 350.5,-664.5 0.5,-664.5\" stroke=\"black\"/>\n",
       "<text font-family=\"Times New Roman,serif\" font-size=\"14.00\" text-anchor=\"middle\" x=\"91.5\" y=\"-683.8\">conv2d_15_input: InputLayer</text>\n",
       "<polyline fill=\"none\" points=\"182.5,-664.5 182.5,-710.5 \" stroke=\"black\"/>\n",
       "<text font-family=\"Times New Roman,serif\" font-size=\"14.00\" text-anchor=\"middle\" x=\"210.5\" y=\"-695.3\">input:</text>\n",
       "<polyline fill=\"none\" points=\"182.5,-687.5 238.5,-687.5 \" stroke=\"black\"/>\n",
       "<text font-family=\"Times New Roman,serif\" font-size=\"14.00\" text-anchor=\"middle\" x=\"210.5\" y=\"-672.3\">output:</text>\n",
       "<polyline fill=\"none\" points=\"238.5,-664.5 238.5,-710.5 \" stroke=\"black\"/>\n",
       "<text font-family=\"Times New Roman,serif\" font-size=\"14.00\" text-anchor=\"middle\" x=\"294.5\" y=\"-695.3\">(None, 1, 28, 28)</text>\n",
       "<polyline fill=\"none\" points=\"238.5,-687.5 350.5,-687.5 \" stroke=\"black\"/>\n",
       "<text font-family=\"Times New Roman,serif\" font-size=\"14.00\" text-anchor=\"middle\" x=\"294.5\" y=\"-672.3\">(None, 1, 28, 28)</text>\n",
       "</g>\n",
       "<!-- 2099362753952 -->\n",
       "<g class=\"node\" id=\"node2\"><title>2099362753952</title>\n",
       "<polygon fill=\"none\" points=\"21,-581.5 21,-627.5 330,-627.5 330,-581.5 21,-581.5\" stroke=\"black\"/>\n",
       "<text font-family=\"Times New Roman,serif\" font-size=\"14.00\" text-anchor=\"middle\" x=\"88\" y=\"-600.8\">conv2d_15: Conv2D</text>\n",
       "<polyline fill=\"none\" points=\"155,-581.5 155,-627.5 \" stroke=\"black\"/>\n",
       "<text font-family=\"Times New Roman,serif\" font-size=\"14.00\" text-anchor=\"middle\" x=\"183\" y=\"-612.3\">input:</text>\n",
       "<polyline fill=\"none\" points=\"155,-604.5 211,-604.5 \" stroke=\"black\"/>\n",
       "<text font-family=\"Times New Roman,serif\" font-size=\"14.00\" text-anchor=\"middle\" x=\"183\" y=\"-589.3\">output:</text>\n",
       "<polyline fill=\"none\" points=\"211,-581.5 211,-627.5 \" stroke=\"black\"/>\n",
       "<text font-family=\"Times New Roman,serif\" font-size=\"14.00\" text-anchor=\"middle\" x=\"270.5\" y=\"-612.3\">(None, 1, 28, 28)</text>\n",
       "<polyline fill=\"none\" points=\"211,-604.5 330,-604.5 \" stroke=\"black\"/>\n",
       "<text font-family=\"Times New Roman,serif\" font-size=\"14.00\" text-anchor=\"middle\" x=\"270.5\" y=\"-589.3\">(None, 16, 28, 28)</text>\n",
       "</g>\n",
       "<!-- 2099368171952&#45;&gt;2099362753952 -->\n",
       "<g class=\"edge\" id=\"edge1\"><title>2099368171952-&gt;2099362753952</title>\n",
       "<path d=\"M175.5,-664.366C175.5,-656.152 175.5,-646.658 175.5,-637.725\" fill=\"none\" stroke=\"black\"/>\n",
       "<polygon fill=\"black\" points=\"179,-637.607 175.5,-627.607 172,-637.607 179,-637.607\" stroke=\"black\"/>\n",
       "</g>\n",
       "<!-- 2099353435496 -->\n",
       "<g class=\"node\" id=\"node3\"><title>2099353435496</title>\n",
       "<polygon fill=\"none\" points=\"0,-498.5 0,-544.5 351,-544.5 351,-498.5 0,-498.5\" stroke=\"black\"/>\n",
       "<text font-family=\"Times New Roman,serif\" font-size=\"14.00\" text-anchor=\"middle\" x=\"88\" y=\"-517.8\">leaky_re_lu_14: LeakyReLU</text>\n",
       "<polyline fill=\"none\" points=\"176,-498.5 176,-544.5 \" stroke=\"black\"/>\n",
       "<text font-family=\"Times New Roman,serif\" font-size=\"14.00\" text-anchor=\"middle\" x=\"204\" y=\"-529.3\">input:</text>\n",
       "<polyline fill=\"none\" points=\"176,-521.5 232,-521.5 \" stroke=\"black\"/>\n",
       "<text font-family=\"Times New Roman,serif\" font-size=\"14.00\" text-anchor=\"middle\" x=\"204\" y=\"-506.3\">output:</text>\n",
       "<polyline fill=\"none\" points=\"232,-498.5 232,-544.5 \" stroke=\"black\"/>\n",
       "<text font-family=\"Times New Roman,serif\" font-size=\"14.00\" text-anchor=\"middle\" x=\"291.5\" y=\"-529.3\">(None, 16, 28, 28)</text>\n",
       "<polyline fill=\"none\" points=\"232,-521.5 351,-521.5 \" stroke=\"black\"/>\n",
       "<text font-family=\"Times New Roman,serif\" font-size=\"14.00\" text-anchor=\"middle\" x=\"291.5\" y=\"-506.3\">(None, 16, 28, 28)</text>\n",
       "</g>\n",
       "<!-- 2099362753952&#45;&gt;2099353435496 -->\n",
       "<g class=\"edge\" id=\"edge2\"><title>2099362753952-&gt;2099353435496</title>\n",
       "<path d=\"M175.5,-581.366C175.5,-573.152 175.5,-563.658 175.5,-554.725\" fill=\"none\" stroke=\"black\"/>\n",
       "<polygon fill=\"black\" points=\"179,-554.607 175.5,-544.607 172,-554.607 179,-554.607\" stroke=\"black\"/>\n",
       "</g>\n",
       "<!-- 2099368107032 -->\n",
       "<g class=\"node\" id=\"node4\"><title>2099368107032</title>\n",
       "<polygon fill=\"none\" points=\"23,-415.5 23,-461.5 328,-461.5 328,-415.5 23,-415.5\" stroke=\"black\"/>\n",
       "<text font-family=\"Times New Roman,serif\" font-size=\"14.00\" text-anchor=\"middle\" x=\"88\" y=\"-434.8\">dropout_6: Dropout</text>\n",
       "<polyline fill=\"none\" points=\"153,-415.5 153,-461.5 \" stroke=\"black\"/>\n",
       "<text font-family=\"Times New Roman,serif\" font-size=\"14.00\" text-anchor=\"middle\" x=\"181\" y=\"-446.3\">input:</text>\n",
       "<polyline fill=\"none\" points=\"153,-438.5 209,-438.5 \" stroke=\"black\"/>\n",
       "<text font-family=\"Times New Roman,serif\" font-size=\"14.00\" text-anchor=\"middle\" x=\"181\" y=\"-423.3\">output:</text>\n",
       "<polyline fill=\"none\" points=\"209,-415.5 209,-461.5 \" stroke=\"black\"/>\n",
       "<text font-family=\"Times New Roman,serif\" font-size=\"14.00\" text-anchor=\"middle\" x=\"268.5\" y=\"-446.3\">(None, 16, 28, 28)</text>\n",
       "<polyline fill=\"none\" points=\"209,-438.5 328,-438.5 \" stroke=\"black\"/>\n",
       "<text font-family=\"Times New Roman,serif\" font-size=\"14.00\" text-anchor=\"middle\" x=\"268.5\" y=\"-423.3\">(None, 16, 28, 28)</text>\n",
       "</g>\n",
       "<!-- 2099353435496&#45;&gt;2099368107032 -->\n",
       "<g class=\"edge\" id=\"edge3\"><title>2099353435496-&gt;2099368107032</title>\n",
       "<path d=\"M175.5,-498.366C175.5,-490.152 175.5,-480.658 175.5,-471.725\" fill=\"none\" stroke=\"black\"/>\n",
       "<polygon fill=\"black\" points=\"179,-471.607 175.5,-461.607 172,-471.607 179,-471.607\" stroke=\"black\"/>\n",
       "</g>\n",
       "<!-- 2099368106920 -->\n",
       "<g class=\"node\" id=\"node5\"><title>2099368106920</title>\n",
       "<polygon fill=\"none\" points=\"21,-332.5 21,-378.5 330,-378.5 330,-332.5 21,-332.5\" stroke=\"black\"/>\n",
       "<text font-family=\"Times New Roman,serif\" font-size=\"14.00\" text-anchor=\"middle\" x=\"88\" y=\"-351.8\">conv2d_16: Conv2D</text>\n",
       "<polyline fill=\"none\" points=\"155,-332.5 155,-378.5 \" stroke=\"black\"/>\n",
       "<text font-family=\"Times New Roman,serif\" font-size=\"14.00\" text-anchor=\"middle\" x=\"183\" y=\"-363.3\">input:</text>\n",
       "<polyline fill=\"none\" points=\"155,-355.5 211,-355.5 \" stroke=\"black\"/>\n",
       "<text font-family=\"Times New Roman,serif\" font-size=\"14.00\" text-anchor=\"middle\" x=\"183\" y=\"-340.3\">output:</text>\n",
       "<polyline fill=\"none\" points=\"211,-332.5 211,-378.5 \" stroke=\"black\"/>\n",
       "<text font-family=\"Times New Roman,serif\" font-size=\"14.00\" text-anchor=\"middle\" x=\"270.5\" y=\"-363.3\">(None, 16, 28, 28)</text>\n",
       "<polyline fill=\"none\" points=\"211,-355.5 330,-355.5 \" stroke=\"black\"/>\n",
       "<text font-family=\"Times New Roman,serif\" font-size=\"14.00\" text-anchor=\"middle\" x=\"270.5\" y=\"-340.3\">(None, 32, 28, 28)</text>\n",
       "</g>\n",
       "<!-- 2099368107032&#45;&gt;2099368106920 -->\n",
       "<g class=\"edge\" id=\"edge4\"><title>2099368107032-&gt;2099368106920</title>\n",
       "<path d=\"M175.5,-415.366C175.5,-407.152 175.5,-397.658 175.5,-388.725\" fill=\"none\" stroke=\"black\"/>\n",
       "<polygon fill=\"black\" points=\"179,-388.607 175.5,-378.607 172,-388.607 179,-388.607\" stroke=\"black\"/>\n",
       "</g>\n",
       "<!-- 2099355393944 -->\n",
       "<g class=\"node\" id=\"node6\"><title>2099355393944</title>\n",
       "<polygon fill=\"none\" points=\"0,-249.5 0,-295.5 351,-295.5 351,-249.5 0,-249.5\" stroke=\"black\"/>\n",
       "<text font-family=\"Times New Roman,serif\" font-size=\"14.00\" text-anchor=\"middle\" x=\"88\" y=\"-268.8\">leaky_re_lu_15: LeakyReLU</text>\n",
       "<polyline fill=\"none\" points=\"176,-249.5 176,-295.5 \" stroke=\"black\"/>\n",
       "<text font-family=\"Times New Roman,serif\" font-size=\"14.00\" text-anchor=\"middle\" x=\"204\" y=\"-280.3\">input:</text>\n",
       "<polyline fill=\"none\" points=\"176,-272.5 232,-272.5 \" stroke=\"black\"/>\n",
       "<text font-family=\"Times New Roman,serif\" font-size=\"14.00\" text-anchor=\"middle\" x=\"204\" y=\"-257.3\">output:</text>\n",
       "<polyline fill=\"none\" points=\"232,-249.5 232,-295.5 \" stroke=\"black\"/>\n",
       "<text font-family=\"Times New Roman,serif\" font-size=\"14.00\" text-anchor=\"middle\" x=\"291.5\" y=\"-280.3\">(None, 32, 28, 28)</text>\n",
       "<polyline fill=\"none\" points=\"232,-272.5 351,-272.5 \" stroke=\"black\"/>\n",
       "<text font-family=\"Times New Roman,serif\" font-size=\"14.00\" text-anchor=\"middle\" x=\"291.5\" y=\"-257.3\">(None, 32, 28, 28)</text>\n",
       "</g>\n",
       "<!-- 2099368106920&#45;&gt;2099355393944 -->\n",
       "<g class=\"edge\" id=\"edge5\"><title>2099368106920-&gt;2099355393944</title>\n",
       "<path d=\"M175.5,-332.366C175.5,-324.152 175.5,-314.658 175.5,-305.725\" fill=\"none\" stroke=\"black\"/>\n",
       "<polygon fill=\"black\" points=\"179,-305.607 175.5,-295.607 172,-305.607 179,-305.607\" stroke=\"black\"/>\n",
       "</g>\n",
       "<!-- 2099360827768 -->\n",
       "<g class=\"node\" id=\"node7\"><title>2099360827768</title>\n",
       "<polygon fill=\"none\" points=\"23,-166.5 23,-212.5 328,-212.5 328,-166.5 23,-166.5\" stroke=\"black\"/>\n",
       "<text font-family=\"Times New Roman,serif\" font-size=\"14.00\" text-anchor=\"middle\" x=\"88\" y=\"-185.8\">dropout_7: Dropout</text>\n",
       "<polyline fill=\"none\" points=\"153,-166.5 153,-212.5 \" stroke=\"black\"/>\n",
       "<text font-family=\"Times New Roman,serif\" font-size=\"14.00\" text-anchor=\"middle\" x=\"181\" y=\"-197.3\">input:</text>\n",
       "<polyline fill=\"none\" points=\"153,-189.5 209,-189.5 \" stroke=\"black\"/>\n",
       "<text font-family=\"Times New Roman,serif\" font-size=\"14.00\" text-anchor=\"middle\" x=\"181\" y=\"-174.3\">output:</text>\n",
       "<polyline fill=\"none\" points=\"209,-166.5 209,-212.5 \" stroke=\"black\"/>\n",
       "<text font-family=\"Times New Roman,serif\" font-size=\"14.00\" text-anchor=\"middle\" x=\"268.5\" y=\"-197.3\">(None, 32, 28, 28)</text>\n",
       "<polyline fill=\"none\" points=\"209,-189.5 328,-189.5 \" stroke=\"black\"/>\n",
       "<text font-family=\"Times New Roman,serif\" font-size=\"14.00\" text-anchor=\"middle\" x=\"268.5\" y=\"-174.3\">(None, 32, 28, 28)</text>\n",
       "</g>\n",
       "<!-- 2099355393944&#45;&gt;2099360827768 -->\n",
       "<g class=\"edge\" id=\"edge6\"><title>2099355393944-&gt;2099360827768</title>\n",
       "<path d=\"M175.5,-249.366C175.5,-241.152 175.5,-231.658 175.5,-222.725\" fill=\"none\" stroke=\"black\"/>\n",
       "<polygon fill=\"black\" points=\"179,-222.607 175.5,-212.607 172,-222.607 179,-222.607\" stroke=\"black\"/>\n",
       "</g>\n",
       "<!-- 2099360826536 -->\n",
       "<g class=\"node\" id=\"node8\"><title>2099360826536</title>\n",
       "<polygon fill=\"none\" points=\"33.5,-83.5 33.5,-129.5 317.5,-129.5 317.5,-83.5 33.5,-83.5\" stroke=\"black\"/>\n",
       "<text font-family=\"Times New Roman,serif\" font-size=\"14.00\" text-anchor=\"middle\" x=\"88\" y=\"-102.8\">flatten_3: Flatten</text>\n",
       "<polyline fill=\"none\" points=\"142.5,-83.5 142.5,-129.5 \" stroke=\"black\"/>\n",
       "<text font-family=\"Times New Roman,serif\" font-size=\"14.00\" text-anchor=\"middle\" x=\"170.5\" y=\"-114.3\">input:</text>\n",
       "<polyline fill=\"none\" points=\"142.5,-106.5 198.5,-106.5 \" stroke=\"black\"/>\n",
       "<text font-family=\"Times New Roman,serif\" font-size=\"14.00\" text-anchor=\"middle\" x=\"170.5\" y=\"-91.3\">output:</text>\n",
       "<polyline fill=\"none\" points=\"198.5,-83.5 198.5,-129.5 \" stroke=\"black\"/>\n",
       "<text font-family=\"Times New Roman,serif\" font-size=\"14.00\" text-anchor=\"middle\" x=\"258\" y=\"-114.3\">(None, 32, 28, 28)</text>\n",
       "<polyline fill=\"none\" points=\"198.5,-106.5 317.5,-106.5 \" stroke=\"black\"/>\n",
       "<text font-family=\"Times New Roman,serif\" font-size=\"14.00\" text-anchor=\"middle\" x=\"258\" y=\"-91.3\">(None, 25088)</text>\n",
       "</g>\n",
       "<!-- 2099360827768&#45;&gt;2099360826536 -->\n",
       "<g class=\"edge\" id=\"edge7\"><title>2099360827768-&gt;2099360826536</title>\n",
       "<path d=\"M175.5,-166.366C175.5,-158.152 175.5,-148.658 175.5,-139.725\" fill=\"none\" stroke=\"black\"/>\n",
       "<polygon fill=\"black\" points=\"179,-139.607 175.5,-129.607 172,-139.607 179,-139.607\" stroke=\"black\"/>\n",
       "</g>\n",
       "<!-- 2099355434736 -->\n",
       "<g class=\"node\" id=\"node9\"><title>2099355434736</title>\n",
       "<polygon fill=\"none\" points=\"47,-0.5 47,-46.5 304,-46.5 304,-0.5 47,-0.5\" stroke=\"black\"/>\n",
       "<text font-family=\"Times New Roman,serif\" font-size=\"14.00\" text-anchor=\"middle\" x=\"99\" y=\"-19.8\">dense_7: Dense</text>\n",
       "<polyline fill=\"none\" points=\"151,-0.5 151,-46.5 \" stroke=\"black\"/>\n",
       "<text font-family=\"Times New Roman,serif\" font-size=\"14.00\" text-anchor=\"middle\" x=\"179\" y=\"-31.3\">input:</text>\n",
       "<polyline fill=\"none\" points=\"151,-23.5 207,-23.5 \" stroke=\"black\"/>\n",
       "<text font-family=\"Times New Roman,serif\" font-size=\"14.00\" text-anchor=\"middle\" x=\"179\" y=\"-8.3\">output:</text>\n",
       "<polyline fill=\"none\" points=\"207,-0.5 207,-46.5 \" stroke=\"black\"/>\n",
       "<text font-family=\"Times New Roman,serif\" font-size=\"14.00\" text-anchor=\"middle\" x=\"255.5\" y=\"-31.3\">(None, 25088)</text>\n",
       "<polyline fill=\"none\" points=\"207,-23.5 304,-23.5 \" stroke=\"black\"/>\n",
       "<text font-family=\"Times New Roman,serif\" font-size=\"14.00\" text-anchor=\"middle\" x=\"255.5\" y=\"-8.3\">(None, 1)</text>\n",
       "</g>\n",
       "<!-- 2099360826536&#45;&gt;2099355434736 -->\n",
       "<g class=\"edge\" id=\"edge8\"><title>2099360826536-&gt;2099355434736</title>\n",
       "<path d=\"M175.5,-83.3664C175.5,-75.1516 175.5,-65.6579 175.5,-56.7252\" fill=\"none\" stroke=\"black\"/>\n",
       "<polygon fill=\"black\" points=\"179,-56.6068 175.5,-46.6068 172,-56.6069 179,-56.6068\" stroke=\"black\"/>\n",
       "</g>\n",
       "</g>\n",
       "</svg>"
      ],
      "text/plain": [
       "<IPython.core.display.SVG object>"
      ]
     },
     "metadata": {},
     "output_type": "display_data"
    }
   ],
   "source": [
    "\n",
    "display(SVG(model_to_dot(discriminator,show_layer_names=True, show_shapes=True).create(prog='dot', format='svg')))\n"
   ]
  },
  {
   "cell_type": "markdown",
   "metadata": {},
   "source": [
    "# Generator Model"
   ]
  },
  {
   "cell_type": "code",
   "execution_count": 5,
   "metadata": {},
   "outputs": [
    {
     "data": {
      "image/svg+xml": [
       "<svg height=\"719pt\" viewBox=\"0.00 0.00 398.00 719.00\" width=\"398pt\" xmlns=\"http://www.w3.org/2000/svg\" xmlns:xlink=\"http://www.w3.org/1999/xlink\">\n",
       "<g class=\"graph\" id=\"graph0\" transform=\"scale(1 1) rotate(0) translate(4 715)\">\n",
       "<title>G</title>\n",
       "<polygon fill=\"white\" points=\"-4,4 -4,-715 394,-715 394,4 -4,4\" stroke=\"none\"/>\n",
       "<!-- 2099357266664 -->\n",
       "<g class=\"node\" id=\"node1\"><title>2099357266664</title>\n",
       "<polygon fill=\"none\" points=\"42.5,-664.5 42.5,-710.5 347.5,-710.5 347.5,-664.5 42.5,-664.5\" stroke=\"black\"/>\n",
       "<text font-family=\"Times New Roman,serif\" font-size=\"14.00\" text-anchor=\"middle\" x=\"125.5\" y=\"-683.8\">dense_6_input: InputLayer</text>\n",
       "<polyline fill=\"none\" points=\"208.5,-664.5 208.5,-710.5 \" stroke=\"black\"/>\n",
       "<text font-family=\"Times New Roman,serif\" font-size=\"14.00\" text-anchor=\"middle\" x=\"236.5\" y=\"-695.3\">input:</text>\n",
       "<polyline fill=\"none\" points=\"208.5,-687.5 264.5,-687.5 \" stroke=\"black\"/>\n",
       "<text font-family=\"Times New Roman,serif\" font-size=\"14.00\" text-anchor=\"middle\" x=\"236.5\" y=\"-672.3\">output:</text>\n",
       "<polyline fill=\"none\" points=\"264.5,-664.5 264.5,-710.5 \" stroke=\"black\"/>\n",
       "<text font-family=\"Times New Roman,serif\" font-size=\"14.00\" text-anchor=\"middle\" x=\"306\" y=\"-695.3\">(None, 100)</text>\n",
       "<polyline fill=\"none\" points=\"264.5,-687.5 347.5,-687.5 \" stroke=\"black\"/>\n",
       "<text font-family=\"Times New Roman,serif\" font-size=\"14.00\" text-anchor=\"middle\" x=\"306\" y=\"-672.3\">(None, 100)</text>\n",
       "</g>\n",
       "<!-- 2099369723776 -->\n",
       "<g class=\"node\" id=\"node2\"><title>2099369723776</title>\n",
       "<polygon fill=\"none\" points=\"70,-581.5 70,-627.5 320,-627.5 320,-581.5 70,-581.5\" stroke=\"black\"/>\n",
       "<text font-family=\"Times New Roman,serif\" font-size=\"14.00\" text-anchor=\"middle\" x=\"122\" y=\"-600.8\">dense_6: Dense</text>\n",
       "<polyline fill=\"none\" points=\"174,-581.5 174,-627.5 \" stroke=\"black\"/>\n",
       "<text font-family=\"Times New Roman,serif\" font-size=\"14.00\" text-anchor=\"middle\" x=\"202\" y=\"-612.3\">input:</text>\n",
       "<polyline fill=\"none\" points=\"174,-604.5 230,-604.5 \" stroke=\"black\"/>\n",
       "<text font-family=\"Times New Roman,serif\" font-size=\"14.00\" text-anchor=\"middle\" x=\"202\" y=\"-589.3\">output:</text>\n",
       "<polyline fill=\"none\" points=\"230,-581.5 230,-627.5 \" stroke=\"black\"/>\n",
       "<text font-family=\"Times New Roman,serif\" font-size=\"14.00\" text-anchor=\"middle\" x=\"275\" y=\"-612.3\">(None, 100)</text>\n",
       "<polyline fill=\"none\" points=\"230,-604.5 320,-604.5 \" stroke=\"black\"/>\n",
       "<text font-family=\"Times New Roman,serif\" font-size=\"14.00\" text-anchor=\"middle\" x=\"275\" y=\"-589.3\">(None, 6272)</text>\n",
       "</g>\n",
       "<!-- 2099357266664&#45;&gt;2099369723776 -->\n",
       "<g class=\"edge\" id=\"edge1\"><title>2099357266664-&gt;2099369723776</title>\n",
       "<path d=\"M195,-664.366C195,-656.152 195,-646.658 195,-637.725\" fill=\"none\" stroke=\"black\"/>\n",
       "<polygon fill=\"black\" points=\"198.5,-637.607 195,-627.607 191.5,-637.607 198.5,-637.607\" stroke=\"black\"/>\n",
       "</g>\n",
       "<!-- 2099369723832 -->\n",
       "<g class=\"node\" id=\"node3\"><title>2099369723832</title>\n",
       "<polygon fill=\"none\" points=\"34,-498.5 34,-544.5 356,-544.5 356,-498.5 34,-498.5\" stroke=\"black\"/>\n",
       "<text font-family=\"Times New Roman,serif\" font-size=\"14.00\" text-anchor=\"middle\" x=\"122\" y=\"-517.8\">leaky_re_lu_12: LeakyReLU</text>\n",
       "<polyline fill=\"none\" points=\"210,-498.5 210,-544.5 \" stroke=\"black\"/>\n",
       "<text font-family=\"Times New Roman,serif\" font-size=\"14.00\" text-anchor=\"middle\" x=\"238\" y=\"-529.3\">input:</text>\n",
       "<polyline fill=\"none\" points=\"210,-521.5 266,-521.5 \" stroke=\"black\"/>\n",
       "<text font-family=\"Times New Roman,serif\" font-size=\"14.00\" text-anchor=\"middle\" x=\"238\" y=\"-506.3\">output:</text>\n",
       "<polyline fill=\"none\" points=\"266,-498.5 266,-544.5 \" stroke=\"black\"/>\n",
       "<text font-family=\"Times New Roman,serif\" font-size=\"14.00\" text-anchor=\"middle\" x=\"311\" y=\"-529.3\">(None, 6272)</text>\n",
       "<polyline fill=\"none\" points=\"266,-521.5 356,-521.5 \" stroke=\"black\"/>\n",
       "<text font-family=\"Times New Roman,serif\" font-size=\"14.00\" text-anchor=\"middle\" x=\"311\" y=\"-506.3\">(None, 6272)</text>\n",
       "</g>\n",
       "<!-- 2099369723776&#45;&gt;2099369723832 -->\n",
       "<g class=\"edge\" id=\"edge2\"><title>2099369723776-&gt;2099369723832</title>\n",
       "<path d=\"M195,-581.366C195,-573.152 195,-563.658 195,-554.725\" fill=\"none\" stroke=\"black\"/>\n",
       "<polygon fill=\"black\" points=\"198.5,-554.607 195,-544.607 191.5,-554.607 198.5,-554.607\" stroke=\"black\"/>\n",
       "</g>\n",
       "<!-- 2099357268456 -->\n",
       "<g class=\"node\" id=\"node4\"><title>2099357268456</title>\n",
       "<polygon fill=\"none\" points=\"47,-415.5 47,-461.5 343,-461.5 343,-415.5 47,-415.5\" stroke=\"black\"/>\n",
       "<text font-family=\"Times New Roman,serif\" font-size=\"14.00\" text-anchor=\"middle\" x=\"111\" y=\"-434.8\">reshape_4: Reshape</text>\n",
       "<polyline fill=\"none\" points=\"175,-415.5 175,-461.5 \" stroke=\"black\"/>\n",
       "<text font-family=\"Times New Roman,serif\" font-size=\"14.00\" text-anchor=\"middle\" x=\"203\" y=\"-446.3\">input:</text>\n",
       "<polyline fill=\"none\" points=\"175,-438.5 231,-438.5 \" stroke=\"black\"/>\n",
       "<text font-family=\"Times New Roman,serif\" font-size=\"14.00\" text-anchor=\"middle\" x=\"203\" y=\"-423.3\">output:</text>\n",
       "<polyline fill=\"none\" points=\"231,-415.5 231,-461.5 \" stroke=\"black\"/>\n",
       "<text font-family=\"Times New Roman,serif\" font-size=\"14.00\" text-anchor=\"middle\" x=\"287\" y=\"-446.3\">(None, 6272)</text>\n",
       "<polyline fill=\"none\" points=\"231,-438.5 343,-438.5 \" stroke=\"black\"/>\n",
       "<text font-family=\"Times New Roman,serif\" font-size=\"14.00\" text-anchor=\"middle\" x=\"287\" y=\"-423.3\">(None, 128, 7, 7)</text>\n",
       "</g>\n",
       "<!-- 2099369723832&#45;&gt;2099357268456 -->\n",
       "<g class=\"edge\" id=\"edge3\"><title>2099369723832-&gt;2099357268456</title>\n",
       "<path d=\"M195,-498.366C195,-490.152 195,-480.658 195,-471.725\" fill=\"none\" stroke=\"black\"/>\n",
       "<polygon fill=\"black\" points=\"198.5,-471.607 195,-461.607 191.5,-471.607 198.5,-471.607\" stroke=\"black\"/>\n",
       "</g>\n",
       "<!-- 2099357267504 -->\n",
       "<g class=\"node\" id=\"node5\"><title>2099357267504</title>\n",
       "<polygon fill=\"none\" points=\"0,-332.5 0,-378.5 390,-378.5 390,-332.5 0,-332.5\" stroke=\"black\"/>\n",
       "<text font-family=\"Times New Roman,serif\" font-size=\"14.00\" text-anchor=\"middle\" x=\"104.5\" y=\"-351.8\">up_sampling2d_7: UpSampling2D</text>\n",
       "<polyline fill=\"none\" points=\"209,-332.5 209,-378.5 \" stroke=\"black\"/>\n",
       "<text font-family=\"Times New Roman,serif\" font-size=\"14.00\" text-anchor=\"middle\" x=\"237\" y=\"-363.3\">input:</text>\n",
       "<polyline fill=\"none\" points=\"209,-355.5 265,-355.5 \" stroke=\"black\"/>\n",
       "<text font-family=\"Times New Roman,serif\" font-size=\"14.00\" text-anchor=\"middle\" x=\"237\" y=\"-340.3\">output:</text>\n",
       "<polyline fill=\"none\" points=\"265,-332.5 265,-378.5 \" stroke=\"black\"/>\n",
       "<text font-family=\"Times New Roman,serif\" font-size=\"14.00\" text-anchor=\"middle\" x=\"327.5\" y=\"-363.3\">(None, 128, 7, 7)</text>\n",
       "<polyline fill=\"none\" points=\"265,-355.5 390,-355.5 \" stroke=\"black\"/>\n",
       "<text font-family=\"Times New Roman,serif\" font-size=\"14.00\" text-anchor=\"middle\" x=\"327.5\" y=\"-340.3\">(None, 128, 14, 14)</text>\n",
       "</g>\n",
       "<!-- 2099357268456&#45;&gt;2099357267504 -->\n",
       "<g class=\"edge\" id=\"edge4\"><title>2099357268456-&gt;2099357267504</title>\n",
       "<path d=\"M195,-415.366C195,-407.152 195,-397.658 195,-388.725\" fill=\"none\" stroke=\"black\"/>\n",
       "<polygon fill=\"black\" points=\"198.5,-388.607 195,-378.607 191.5,-388.607 198.5,-388.607\" stroke=\"black\"/>\n",
       "</g>\n",
       "<!-- 2099357267560 -->\n",
       "<g class=\"node\" id=\"node6\"><title>2099357267560</title>\n",
       "<polygon fill=\"none\" points=\"37.5,-249.5 37.5,-295.5 352.5,-295.5 352.5,-249.5 37.5,-249.5\" stroke=\"black\"/>\n",
       "<text font-family=\"Times New Roman,serif\" font-size=\"14.00\" text-anchor=\"middle\" x=\"104.5\" y=\"-268.8\">conv2d_13: Conv2D</text>\n",
       "<polyline fill=\"none\" points=\"171.5,-249.5 171.5,-295.5 \" stroke=\"black\"/>\n",
       "<text font-family=\"Times New Roman,serif\" font-size=\"14.00\" text-anchor=\"middle\" x=\"199.5\" y=\"-280.3\">input:</text>\n",
       "<polyline fill=\"none\" points=\"171.5,-272.5 227.5,-272.5 \" stroke=\"black\"/>\n",
       "<text font-family=\"Times New Roman,serif\" font-size=\"14.00\" text-anchor=\"middle\" x=\"199.5\" y=\"-257.3\">output:</text>\n",
       "<polyline fill=\"none\" points=\"227.5,-249.5 227.5,-295.5 \" stroke=\"black\"/>\n",
       "<text font-family=\"Times New Roman,serif\" font-size=\"14.00\" text-anchor=\"middle\" x=\"290\" y=\"-280.3\">(None, 128, 14, 14)</text>\n",
       "<polyline fill=\"none\" points=\"227.5,-272.5 352.5,-272.5 \" stroke=\"black\"/>\n",
       "<text font-family=\"Times New Roman,serif\" font-size=\"14.00\" text-anchor=\"middle\" x=\"290\" y=\"-257.3\">(None, 16, 14, 14)</text>\n",
       "</g>\n",
       "<!-- 2099357267504&#45;&gt;2099357267560 -->\n",
       "<g class=\"edge\" id=\"edge5\"><title>2099357267504-&gt;2099357267560</title>\n",
       "<path d=\"M195,-332.366C195,-324.152 195,-314.658 195,-305.725\" fill=\"none\" stroke=\"black\"/>\n",
       "<polygon fill=\"black\" points=\"198.5,-305.607 195,-295.607 191.5,-305.607 198.5,-305.607\" stroke=\"black\"/>\n",
       "</g>\n",
       "<!-- 2099358227704 -->\n",
       "<g class=\"node\" id=\"node7\"><title>2099358227704</title>\n",
       "<polygon fill=\"none\" points=\"19.5,-166.5 19.5,-212.5 370.5,-212.5 370.5,-166.5 19.5,-166.5\" stroke=\"black\"/>\n",
       "<text font-family=\"Times New Roman,serif\" font-size=\"14.00\" text-anchor=\"middle\" x=\"107.5\" y=\"-185.8\">leaky_re_lu_13: LeakyReLU</text>\n",
       "<polyline fill=\"none\" points=\"195.5,-166.5 195.5,-212.5 \" stroke=\"black\"/>\n",
       "<text font-family=\"Times New Roman,serif\" font-size=\"14.00\" text-anchor=\"middle\" x=\"223.5\" y=\"-197.3\">input:</text>\n",
       "<polyline fill=\"none\" points=\"195.5,-189.5 251.5,-189.5 \" stroke=\"black\"/>\n",
       "<text font-family=\"Times New Roman,serif\" font-size=\"14.00\" text-anchor=\"middle\" x=\"223.5\" y=\"-174.3\">output:</text>\n",
       "<polyline fill=\"none\" points=\"251.5,-166.5 251.5,-212.5 \" stroke=\"black\"/>\n",
       "<text font-family=\"Times New Roman,serif\" font-size=\"14.00\" text-anchor=\"middle\" x=\"311\" y=\"-197.3\">(None, 16, 14, 14)</text>\n",
       "<polyline fill=\"none\" points=\"251.5,-189.5 370.5,-189.5 \" stroke=\"black\"/>\n",
       "<text font-family=\"Times New Roman,serif\" font-size=\"14.00\" text-anchor=\"middle\" x=\"311\" y=\"-174.3\">(None, 16, 14, 14)</text>\n",
       "</g>\n",
       "<!-- 2099357267560&#45;&gt;2099358227704 -->\n",
       "<g class=\"edge\" id=\"edge6\"><title>2099357267560-&gt;2099358227704</title>\n",
       "<path d=\"M195,-249.366C195,-241.152 195,-231.658 195,-222.725\" fill=\"none\" stroke=\"black\"/>\n",
       "<polygon fill=\"black\" points=\"198.5,-222.607 195,-212.607 191.5,-222.607 198.5,-222.607\" stroke=\"black\"/>\n",
       "</g>\n",
       "<!-- 2099354467296 -->\n",
       "<g class=\"node\" id=\"node8\"><title>2099354467296</title>\n",
       "<polygon fill=\"none\" points=\"3,-83.5 3,-129.5 387,-129.5 387,-83.5 3,-83.5\" stroke=\"black\"/>\n",
       "<text font-family=\"Times New Roman,serif\" font-size=\"14.00\" text-anchor=\"middle\" x=\"107.5\" y=\"-102.8\">up_sampling2d_8: UpSampling2D</text>\n",
       "<polyline fill=\"none\" points=\"212,-83.5 212,-129.5 \" stroke=\"black\"/>\n",
       "<text font-family=\"Times New Roman,serif\" font-size=\"14.00\" text-anchor=\"middle\" x=\"240\" y=\"-114.3\">input:</text>\n",
       "<polyline fill=\"none\" points=\"212,-106.5 268,-106.5 \" stroke=\"black\"/>\n",
       "<text font-family=\"Times New Roman,serif\" font-size=\"14.00\" text-anchor=\"middle\" x=\"240\" y=\"-91.3\">output:</text>\n",
       "<polyline fill=\"none\" points=\"268,-83.5 268,-129.5 \" stroke=\"black\"/>\n",
       "<text font-family=\"Times New Roman,serif\" font-size=\"14.00\" text-anchor=\"middle\" x=\"327.5\" y=\"-114.3\">(None, 16, 14, 14)</text>\n",
       "<polyline fill=\"none\" points=\"268,-106.5 387,-106.5 \" stroke=\"black\"/>\n",
       "<text font-family=\"Times New Roman,serif\" font-size=\"14.00\" text-anchor=\"middle\" x=\"327.5\" y=\"-91.3\">(None, 16, 28, 28)</text>\n",
       "</g>\n",
       "<!-- 2099358227704&#45;&gt;2099354467296 -->\n",
       "<g class=\"edge\" id=\"edge7\"><title>2099358227704-&gt;2099354467296</title>\n",
       "<path d=\"M195,-166.366C195,-158.152 195,-148.658 195,-139.725\" fill=\"none\" stroke=\"black\"/>\n",
       "<polygon fill=\"black\" points=\"198.5,-139.607 195,-129.607 191.5,-139.607 198.5,-139.607\" stroke=\"black\"/>\n",
       "</g>\n",
       "<!-- 2099369812488 -->\n",
       "<g class=\"node\" id=\"node9\"><title>2099369812488</title>\n",
       "<polygon fill=\"none\" points=\"40.5,-0.5 40.5,-46.5 349.5,-46.5 349.5,-0.5 40.5,-0.5\" stroke=\"black\"/>\n",
       "<text font-family=\"Times New Roman,serif\" font-size=\"14.00\" text-anchor=\"middle\" x=\"107.5\" y=\"-19.8\">conv2d_14: Conv2D</text>\n",
       "<polyline fill=\"none\" points=\"174.5,-0.5 174.5,-46.5 \" stroke=\"black\"/>\n",
       "<text font-family=\"Times New Roman,serif\" font-size=\"14.00\" text-anchor=\"middle\" x=\"202.5\" y=\"-31.3\">input:</text>\n",
       "<polyline fill=\"none\" points=\"174.5,-23.5 230.5,-23.5 \" stroke=\"black\"/>\n",
       "<text font-family=\"Times New Roman,serif\" font-size=\"14.00\" text-anchor=\"middle\" x=\"202.5\" y=\"-8.3\">output:</text>\n",
       "<polyline fill=\"none\" points=\"230.5,-0.5 230.5,-46.5 \" stroke=\"black\"/>\n",
       "<text font-family=\"Times New Roman,serif\" font-size=\"14.00\" text-anchor=\"middle\" x=\"290\" y=\"-31.3\">(None, 16, 28, 28)</text>\n",
       "<polyline fill=\"none\" points=\"230.5,-23.5 349.5,-23.5 \" stroke=\"black\"/>\n",
       "<text font-family=\"Times New Roman,serif\" font-size=\"14.00\" text-anchor=\"middle\" x=\"290\" y=\"-8.3\">(None, 1, 28, 28)</text>\n",
       "</g>\n",
       "<!-- 2099354467296&#45;&gt;2099369812488 -->\n",
       "<g class=\"edge\" id=\"edge8\"><title>2099354467296-&gt;2099369812488</title>\n",
       "<path d=\"M195,-83.3664C195,-75.1516 195,-65.6579 195,-56.7252\" fill=\"none\" stroke=\"black\"/>\n",
       "<polygon fill=\"black\" points=\"198.5,-56.6068 195,-46.6068 191.5,-56.6069 198.5,-56.6068\" stroke=\"black\"/>\n",
       "</g>\n",
       "</g>\n",
       "</svg>"
      ],
      "text/plain": [
       "<IPython.core.display.SVG object>"
      ]
     },
     "metadata": {},
     "output_type": "display_data"
    }
   ],
   "source": [
    "from keras.utils.vis_utils import plot_model\n",
    "# plot_model(generator, to_file='gen_model.png')\n",
    "display(SVG(model_to_dot(generator, show_layer_names=True, show_shapes=True).create(prog='dot', format='svg')))"
   ]
  },
  {
   "cell_type": "code",
   "execution_count": null,
   "metadata": {},
   "outputs": [],
   "source": [
    "\n",
    "import os\n",
    "import cv2\n",
    "\n",
    "import numpy as np\n",
    "from tqdm import tqdm\n",
    "import matplotlib.pyplot as plt\n",
    "from matplotlib import pyplot as pl\n",
    "from keras.layers import Input\n",
    "from keras.models import Model, Sequential\n",
    "from keras.layers.core import Reshape, Dense, Dropout, Flatten\n",
    "from keras.layers.advanced_activations import LeakyReLU\n",
    "from keras.layers.convolutional import Convolution2D, UpSampling2D\n",
    "from keras.layers.normalization import BatchNormalization\n",
    "from keras.datasets import mnist\n",
    "from keras.optimizers import Adam\n",
    "from keras import backend as K\n",
    "from keras import initializers\n",
    "\n",
    "K.set_image_dim_ordering('th')\n",
    "\n",
    "np.random.seed(1000)\n",
    "\n",
    "randomDim = 100\n",
    "\n",
    "(X_train, y_train), (X_test, y_test) = mnist.load_data()\n",
    "X_train = (X_train.astype(np.float32) - 127.5)/127.5\n",
    "X_train = X_train.reshape(60000, 784)\n",
    "\n",
    "adam = Adam(lr=0.0002, beta_1=0.5)\n",
    "\n",
    "generator = Sequential()\n",
    "generator.add(Dense(256, input_dim=randomDim, kernel_initializer=initializers.RandomNormal(stddev=0.02)))\n",
    "generator.add(LeakyReLU(0.2))\n",
    "generator.add(Dense(512))\n",
    "generator.add(LeakyReLU(0.2))\n",
    "generator.add(Dense(1024))\n",
    "generator.add(LeakyReLU(0.2))\n",
    "generator.add(Dense(784, activation='tanh'))\n",
    "generator.compile(loss='binary_crossentropy', optimizer=adam)\n",
    "\n",
    "discriminator = Sequential()\n",
    "discriminator.add(Dense(1024, input_dim=784, kernel_initializer=initializers.RandomNormal(stddev=0.02)))\n",
    "discriminator.add(LeakyReLU(0.2))\n",
    "discriminator.add(Dropout(0.3))\n",
    "discriminator.add(Dense(512))\n",
    "discriminator.add(LeakyReLU(0.2))\n",
    "discriminator.add(Dropout(0.3))\n",
    "discriminator.add(Dense(256))\n",
    "discriminator.add(LeakyReLU(0.2))\n",
    "discriminator.add(Dropout(0.3))\n",
    "discriminator.add(Dense(1, activation='sigmoid'))\n",
    "discriminator.compile(loss='binary_crossentropy', optimizer=adam)\n",
    "\n",
    "# Combined network\n",
    "discriminator.trainable = False\n",
    "ganInput = Input(shape=(randomDim,))\n",
    "x = generator(ganInput)\n",
    "ganOutput = discriminator(x)\n",
    "gan = Model(inputs=ganInput, outputs=ganOutput)\n",
    "gan.compile(loss='binary_crossentropy', optimizer=adam)\n",
    "\n",
    "dLosses = []\n",
    "gLosses = []\n",
    "\n",
    "def plotLoss(epoch):\n",
    "    plt.figure(figsize=(10, 8))\n",
    "    plt.plot(dLosses, label='Discriminitive loss')\n",
    "    plt.plot(gLosses, label='Generative loss')\n",
    "    plt.xlabel('Epoch')\n",
    "    plt.ylabel('Loss')\n",
    "    plt.legend()\n",
    "    plt.savefig('images/gan_neuralnet/gan_%d_loss_epoch_.png' % epoch)\n",
    "\n",
    "def plotGeneratedImages(epoch, examples=100, dim=(10, 10), figsize=(10, 10)):\n",
    "    noise = np.random.normal(0, 1, size=[examples, randomDim])\n",
    "    generatedImages = generator.predict(noise)\n",
    "    generatedImages = generatedImages.reshape(examples, 28, 28)\n",
    "\n",
    "    plt.figure(figsize=figsize)\n",
    "    for i in range(generatedImages.shape[0]):\n",
    "        plt.subplot(dim[0], dim[1], 1)\n",
    "        plt.imshow(generatedImages[i], interpolation='nearest', cmap='gray_r')\n",
    "        plt.axis('off')\n",
    "    plt.tight_layout()\n",
    "    plt.savefig('images/gan_neuralnet/gan_%d_generated_image_epoch.png' % epoch)\n",
    "\n",
    "def saveModels(epoch):\n",
    "    generator.save('models/gan_neuralnet/gan_generator_epoch_%d.h5' % epoch)\n",
    "    discriminator.save('models/gan_neuralnet/gan_discriminator_epoch_%d.h5' % epoch)\n",
    "\n",
    "def train(epochs=1, batchSize=128):\n",
    "    batchCount = int(X_train.shape[0] / batchSize)\n",
    "    print( 'Epochs:', epochs)\n",
    "    print( 'Batch size:', batchSize)\n",
    "    print( 'Batches per epoch:', batchCount)\n",
    "\n",
    "    for e in range(1, epochs+1):\n",
    "        print ('-'*15, 'Epoch %d' % e, '-'*15)\n",
    "        for _ in tqdm(range(batchCount)):\n",
    "            # Get a random set of input noise and images\n",
    "            noise = np.random.normal(0, 1, size=[batchSize, randomDim])\n",
    "            imageBatch = X_train[np.random.randint(0, X_train.shape[0], size=batchSize)]\n",
    "\n",
    "            # Generate fake MNIST images\n",
    "            generatedImages = generator.predict(noise)\n",
    "            # print np.shape(imageBatch), np.shape(generatedImages)\n",
    "            X = np.concatenate([imageBatch, generatedImages])\n",
    "\n",
    "            # Labels for generated and real data\n",
    "            yDis = np.zeros(2*batchSize)\n",
    "            # One-sided label smoothing\n",
    "            yDis[:batchSize] = 0.9\n",
    "\n",
    "            # Train discriminator\n",
    "            discriminator.trainable = True\n",
    "            dloss = discriminator.train_on_batch(X, yDis)\n",
    "\n",
    "            # Train generator\n",
    "            noise = np.random.normal(0, 1, size=[batchSize, randomDim])\n",
    "            yGen = np.ones(batchSize)\n",
    "            discriminator.trainable = False\n",
    "            gloss = gan.train_on_batch(noise, yGen)\n",
    "\n",
    "        dLosses.append(dloss)\n",
    "        gLosses.append(gloss)\n",
    "\n",
    "        if e == 1 or e % 20 == 0:\n",
    "            plotGeneratedImages(e)\n",
    "            saveModels(e)\n",
    "\n",
    "    plotLoss(e)\n",
    "\n",
    "if __name__ == '__main__':\n",
    "    print(\"\")\n",
    "    #     train(200, 128)\n",
    "\n"
   ]
  },
  {
   "cell_type": "code",
   "execution_count": null,
   "metadata": {},
   "outputs": [],
   "source": [
    "display(SVG(model_to_dot(discriminator,show_layer_names=True, show_shapes=True).create(prog='dot', format='svg')))\n"
   ]
  },
  {
   "cell_type": "code",
   "execution_count": null,
   "metadata": {},
   "outputs": [],
   "source": [
    "display(SVG(model_to_dot(generator, show_layer_names=True, show_shapes=True).create(prog='dot', format='svg')))"
   ]
  },
  {
   "cell_type": "code",
   "execution_count": null,
   "metadata": {
    "collapsed": true
   },
   "outputs": [],
   "source": [
    "\n",
    "randomDim = 100\n",
    "examples=1\n",
    "noise = np.random.normal(0, 1, size=[examples, randomDim])\n",
    "\n",
    "generatedImages = generator.predict(noise)\n",
    "generatedImages = generatedImages.reshape(examples, 28, 28)\n",
    "# generatedImages.shape\n",
    "pl.subplot(2, 2, 1)\n",
    "pl.figure(figsize=(2,2))\n",
    "pl.imshow(generatedImages[0], cmap = 'gray', interpolation = 'bicubic')\n",
    "pl.xticks([]), plt.yticks([])  # to hide tick values on X and Y axis    \n",
    "\n",
    "counter=counter-1\n",
    "pl.tight_layout()\n",
    "pl.savefig('images/gan_neuralnet/digits/epoch_200/random_%d.png' % counter)"
   ]
  },
  {
   "cell_type": "code",
   "execution_count": null,
   "metadata": {
    "collapsed": true
   },
   "outputs": [],
   "source": [
    "discriminator.predict(generatedImages.reshape(1,784))"
   ]
  },
  {
   "cell_type": "code",
   "execution_count": null,
   "metadata": {
    "collapsed": true
   },
   "outputs": [],
   "source": [
    "import keras\n",
    "counter = 995\n",
    "generator = keras.models.load_model(\"models/gan_cnn/gan_generator_epoch_50.h5\")"
   ]
  },
  {
   "cell_type": "code",
   "execution_count": null,
   "metadata": {
    "collapsed": true
   },
   "outputs": [],
   "source": [
    "randomDim = 100\n",
    "examples=1\n",
    "noise = np.random.normal(0, 1, size=[examples, randomDim])\n",
    "\n",
    "generatedImages = generator.predict(noise)\n",
    "generatedImages = generatedImages.reshape(examples, 28, 28)\n",
    "# generatedImages.shape\n",
    "pl.subplot(2, 2, 1)\n",
    "pl.figure(figsize=(2,2))\n",
    "pl.imshow(generatedImages[0], cmap = 'gray', interpolation = 'bicubic')\n",
    "pl.xticks([]), plt.yticks([])  # to hide tick values on X and Y axis    \n",
    "\n",
    "counter=counter-1\n",
    "pl.tight_layout()\n",
    "pl.savefig('images/gan_cnn/digits/epoch_50/random_%d.png' % counter)"
   ]
  },
  {
   "cell_type": "code",
   "execution_count": null,
   "metadata": {
    "collapsed": true
   },
   "outputs": [],
   "source": [
    "from PIL import Image\n",
    "import os, sys\n",
    "import numpy as np\n"
   ]
  },
  {
   "cell_type": "code",
   "execution_count": null,
   "metadata": {
    "collapsed": true
   },
   "outputs": [],
   "source": [
    "\n",
    "os.chdir('/images/gan_cnn/epoch_50')\n",
    "list_im =  ['0.png', '3.png', '6.png','7.png','8.png']\n",
    "imgs    = [ Image.open(i) for i in list_im ]\n",
    "# pick the image which is the smallest, and resize the others to match it (can be arbitrary image shape here)\n",
    "min_shape = sorted( [(np.sum(i.size), i.size ) for i in imgs])[0][1]\n",
    "imgs_comb = np.hstack( (np.asarray( i.resize(min_shape) ) for i in imgs ) )\n",
    "\n",
    "# save that beautiful picture\n",
    "imgs_comb = Image.fromarray( imgs_comb)\n",
    "imgs_comb.save( '/images/gan_cnn/digits/epoch_50.jpg' )    \n"
   ]
  },
  {
   "cell_type": "code",
   "execution_count": 7,
   "metadata": {},
   "outputs": [
    {
     "name": "stdout",
     "output_type": "stream",
     "text": [
      "(28, 28, 1)\n",
      "(?, 10, 16)\n",
      "(?, 10)\n"
     ]
    }
   ],
   "source": [
    "\n",
    "def margin_loss(y_true, y_pred):\n",
    "    \"\"\"\n",
    "    Margin loss for Eq.(4). When y_true[i, :] contains not just one `1`, this loss should work too. Not test it.\n",
    "    :param y_true: [None, n_classes]\n",
    "    :param y_pred: [None, num_capsule]\n",
    "    :return: a scalar loss value.\n",
    "    \"\"\"\n",
    "    L = y_true * K.square(K.maximum(0., 0.9 - y_pred)) + \\\n",
    "        0.5 * (1 - y_true) * K.square(K.maximum(0., y_pred - 0.1))\n",
    "\n",
    "    return K.mean(K.sum(L, 1))\n",
    "from IPython.display import SVG, display\n",
    "from keras.utils.vis_utils import model_to_dot\n",
    "import matplotlib.pyplot as plt\n",
    "import numpy as np\n",
    "from keras import layers, models, optimizers\n",
    "from keras import backend as K\n",
    "K.set_image_data_format('channels_last')\n",
    "import tensorflow as tf\n",
    "from keras.utils import to_categorical\n",
    "from capsule.capsulelayers import CapsuleLayer, PrimaryCap, Length, Mask\n",
    "from keras.datasets import mnist\n",
    "from keras.utils import multi_gpu_model\n",
    "\n",
    "(x_train, y_train), (x_test, y_test) = mnist.load_data()\n",
    "\n",
    "x_train = x_train.reshape(-1, 28, 28, 1).astype('float32') / 255.\n",
    "x_test = x_test.reshape(-1, 28, 28, 1).astype('float32') / 255.\n",
    "y_train = to_categorical(y_train.astype('float32'))\n",
    "y_test = to_categorical(y_test.astype('float32'))\n",
    "    \n",
    "input_shape=x_train.shape[1:]\n",
    "n_class=len(np.unique(np.argmax(y_train, 1)))\n",
    "num_routing=3\n",
    "lam_recon=0.392\n",
    "lr=0.001\n",
    "print(input_shape)\n",
    "\n",
    "with tf.device('/gpu:0'):\n",
    "    x = layers.Input(shape=input_shape)\n",
    "    conv1 = layers.Conv2D(filters=256, kernel_size=9, strides=1, padding='valid', activation='relu', name='conv1')(x)\n",
    "    primarycaps = PrimaryCap(conv1, dim_capsule=8, n_channels=32, kernel_size=9, strides=2, padding='valid')\n",
    "    digitcaps = CapsuleLayer(num_capsule=n_class, dim_capsule=16, num_routing=num_routing,\n",
    "                             name='digitcaps')(primarycaps)\n",
    "    print(digitcaps.shape)\n",
    "    # # Layer 4: This is an auxiliary layer to replace each capsule with its length. Just to match the true label's shape.\n",
    "    # # If using tensorflow, this will not be necessary. :)\n",
    "    out_caps = Length(name='capsnet')(digitcaps)\n",
    "    print(out_caps.shape)\n",
    "    # Decoder network.\n",
    "    y = layers.Input(shape=(n_class,))\n",
    "    masked_by_y = Mask()([digitcaps, y])  # The true label is used to mask the output of capsule layer. For training\n",
    "    masked = Mask()(digitcaps)  # Mask using the capsule with maximal length. For prediction\n",
    "\n",
    "    # Shared Decoder model in training and prediction\n",
    "    decoder = models.Sequential(name='decoder')\n",
    "    decoder.add(layers.Dense(512, activation='relu', input_dim=16*n_class))\n",
    "    decoder.add(layers.Dense(1024, activation='relu'))\n",
    "    decoder.add(layers.Dense(np.prod(input_shape), activation='sigmoid'))\n",
    "    decoder.add(layers.Reshape(target_shape=input_shape, name='out_recon'))\n",
    "\n",
    "    # Models for training and evaluation (prediction)\n",
    "    train_model = models.Model([x, y], [out_caps, decoder(masked_by_y)])\n",
    "    eval_model = models.Model(x, [out_caps, decoder(masked)])\n",
    "\n",
    "    \n",
    "train_model.compile(optimizer=optimizers.Adam(lr=lr),\n",
    "                  loss=[margin_loss, 'mse'],\n",
    "                  loss_weights=[1., lam_recon],\n",
    "                  metrics={'capsnet': 'accuracy'})\n"
   ]
  },
  {
   "cell_type": "code",
   "execution_count": 8,
   "metadata": {},
   "outputs": [
    {
     "data": {
      "image/svg+xml": [
       "<svg height=\"636pt\" viewBox=\"0.00 0.00 661.00 636.00\" width=\"661pt\" xmlns=\"http://www.w3.org/2000/svg\" xmlns:xlink=\"http://www.w3.org/1999/xlink\">\n",
       "<g class=\"graph\" id=\"graph0\" transform=\"scale(1 1) rotate(0) translate(4 632)\">\n",
       "<title>G</title>\n",
       "<polygon fill=\"white\" points=\"-4,4 -4,-632 657,-632 657,4 -4,4\" stroke=\"none\"/>\n",
       "<!-- 2099357294664 -->\n",
       "<g class=\"node\" id=\"node1\"><title>2099357294664</title>\n",
       "<polygon fill=\"none\" points=\"324,-581.5 324,-627.5 618,-627.5 618,-581.5 324,-581.5\" stroke=\"black\"/>\n",
       "<text font-family=\"Times New Roman,serif\" font-size=\"14.00\" text-anchor=\"middle\" x=\"387\" y=\"-600.8\">input_4: InputLayer</text>\n",
       "<polyline fill=\"none\" points=\"450,-581.5 450,-627.5 \" stroke=\"black\"/>\n",
       "<text font-family=\"Times New Roman,serif\" font-size=\"14.00\" text-anchor=\"middle\" x=\"478\" y=\"-612.3\">input:</text>\n",
       "<polyline fill=\"none\" points=\"450,-604.5 506,-604.5 \" stroke=\"black\"/>\n",
       "<text font-family=\"Times New Roman,serif\" font-size=\"14.00\" text-anchor=\"middle\" x=\"478\" y=\"-589.3\">output:</text>\n",
       "<polyline fill=\"none\" points=\"506,-581.5 506,-627.5 \" stroke=\"black\"/>\n",
       "<text font-family=\"Times New Roman,serif\" font-size=\"14.00\" text-anchor=\"middle\" x=\"562\" y=\"-612.3\">(None, 28, 28, 1)</text>\n",
       "<polyline fill=\"none\" points=\"506,-604.5 618,-604.5 \" stroke=\"black\"/>\n",
       "<text font-family=\"Times New Roman,serif\" font-size=\"14.00\" text-anchor=\"middle\" x=\"562\" y=\"-589.3\">(None, 28, 28, 1)</text>\n",
       "</g>\n",
       "<!-- 2103679241520 -->\n",
       "<g class=\"node\" id=\"node2\"><title>2103679241520</title>\n",
       "<polygon fill=\"none\" points=\"328,-498.5 328,-544.5 614,-544.5 614,-498.5 328,-498.5\" stroke=\"black\"/>\n",
       "<text font-family=\"Times New Roman,serif\" font-size=\"14.00\" text-anchor=\"middle\" x=\"380.5\" y=\"-517.8\">conv1: Conv2D</text>\n",
       "<polyline fill=\"none\" points=\"433,-498.5 433,-544.5 \" stroke=\"black\"/>\n",
       "<text font-family=\"Times New Roman,serif\" font-size=\"14.00\" text-anchor=\"middle\" x=\"461\" y=\"-529.3\">input:</text>\n",
       "<polyline fill=\"none\" points=\"433,-521.5 489,-521.5 \" stroke=\"black\"/>\n",
       "<text font-family=\"Times New Roman,serif\" font-size=\"14.00\" text-anchor=\"middle\" x=\"461\" y=\"-506.3\">output:</text>\n",
       "<polyline fill=\"none\" points=\"489,-498.5 489,-544.5 \" stroke=\"black\"/>\n",
       "<text font-family=\"Times New Roman,serif\" font-size=\"14.00\" text-anchor=\"middle\" x=\"551.5\" y=\"-529.3\">(None, 28, 28, 1)</text>\n",
       "<polyline fill=\"none\" points=\"489,-521.5 614,-521.5 \" stroke=\"black\"/>\n",
       "<text font-family=\"Times New Roman,serif\" font-size=\"14.00\" text-anchor=\"middle\" x=\"551.5\" y=\"-506.3\">(None, 20, 20, 256)</text>\n",
       "</g>\n",
       "<!-- 2099357294664&#45;&gt;2103679241520 -->\n",
       "<g class=\"edge\" id=\"edge1\"><title>2099357294664-&gt;2103679241520</title>\n",
       "<path d=\"M471,-581.366C471,-573.152 471,-563.658 471,-554.725\" fill=\"none\" stroke=\"black\"/>\n",
       "<polygon fill=\"black\" points=\"474.5,-554.607 471,-544.607 467.5,-554.607 474.5,-554.607\" stroke=\"black\"/>\n",
       "</g>\n",
       "<!-- 2103679135024 -->\n",
       "<g class=\"node\" id=\"node3\"><title>2103679135024</title>\n",
       "<polygon fill=\"none\" points=\"289,-415.5 289,-461.5 653,-461.5 653,-415.5 289,-415.5\" stroke=\"black\"/>\n",
       "<text font-family=\"Times New Roman,serif\" font-size=\"14.00\" text-anchor=\"middle\" x=\"380.5\" y=\"-434.8\">primarycap_conv2d: Conv2D</text>\n",
       "<polyline fill=\"none\" points=\"472,-415.5 472,-461.5 \" stroke=\"black\"/>\n",
       "<text font-family=\"Times New Roman,serif\" font-size=\"14.00\" text-anchor=\"middle\" x=\"500\" y=\"-446.3\">input:</text>\n",
       "<polyline fill=\"none\" points=\"472,-438.5 528,-438.5 \" stroke=\"black\"/>\n",
       "<text font-family=\"Times New Roman,serif\" font-size=\"14.00\" text-anchor=\"middle\" x=\"500\" y=\"-423.3\">output:</text>\n",
       "<polyline fill=\"none\" points=\"528,-415.5 528,-461.5 \" stroke=\"black\"/>\n",
       "<text font-family=\"Times New Roman,serif\" font-size=\"14.00\" text-anchor=\"middle\" x=\"590.5\" y=\"-446.3\">(None, 20, 20, 256)</text>\n",
       "<polyline fill=\"none\" points=\"528,-438.5 653,-438.5 \" stroke=\"black\"/>\n",
       "<text font-family=\"Times New Roman,serif\" font-size=\"14.00\" text-anchor=\"middle\" x=\"590.5\" y=\"-423.3\">(None, 6, 6, 256)</text>\n",
       "</g>\n",
       "<!-- 2103679241520&#45;&gt;2103679135024 -->\n",
       "<g class=\"edge\" id=\"edge2\"><title>2103679241520-&gt;2103679135024</title>\n",
       "<path d=\"M471,-498.366C471,-490.152 471,-480.658 471,-471.725\" fill=\"none\" stroke=\"black\"/>\n",
       "<polygon fill=\"black\" points=\"474.5,-471.607 471,-461.607 467.5,-471.607 474.5,-471.607\" stroke=\"black\"/>\n",
       "</g>\n",
       "<!-- 2103678708536 -->\n",
       "<g class=\"node\" id=\"node4\"><title>2103678708536</title>\n",
       "<polygon fill=\"none\" points=\"294.5,-332.5 294.5,-378.5 647.5,-378.5 647.5,-332.5 294.5,-332.5\" stroke=\"black\"/>\n",
       "<text font-family=\"Times New Roman,serif\" font-size=\"14.00\" text-anchor=\"middle\" x=\"387\" y=\"-351.8\">primarycap_reshape: Reshape</text>\n",
       "<polyline fill=\"none\" points=\"479.5,-332.5 479.5,-378.5 \" stroke=\"black\"/>\n",
       "<text font-family=\"Times New Roman,serif\" font-size=\"14.00\" text-anchor=\"middle\" x=\"507.5\" y=\"-363.3\">input:</text>\n",
       "<polyline fill=\"none\" points=\"479.5,-355.5 535.5,-355.5 \" stroke=\"black\"/>\n",
       "<text font-family=\"Times New Roman,serif\" font-size=\"14.00\" text-anchor=\"middle\" x=\"507.5\" y=\"-340.3\">output:</text>\n",
       "<polyline fill=\"none\" points=\"535.5,-332.5 535.5,-378.5 \" stroke=\"black\"/>\n",
       "<text font-family=\"Times New Roman,serif\" font-size=\"14.00\" text-anchor=\"middle\" x=\"591.5\" y=\"-363.3\">(None, 6, 6, 256)</text>\n",
       "<polyline fill=\"none\" points=\"535.5,-355.5 647.5,-355.5 \" stroke=\"black\"/>\n",
       "<text font-family=\"Times New Roman,serif\" font-size=\"14.00\" text-anchor=\"middle\" x=\"591.5\" y=\"-340.3\">(None, 1152, 8)</text>\n",
       "</g>\n",
       "<!-- 2103679135024&#45;&gt;2103678708536 -->\n",
       "<g class=\"edge\" id=\"edge3\"><title>2103679135024-&gt;2103678708536</title>\n",
       "<path d=\"M471,-415.366C471,-407.152 471,-397.658 471,-388.725\" fill=\"none\" stroke=\"black\"/>\n",
       "<polygon fill=\"black\" points=\"474.5,-388.607 471,-378.607 467.5,-388.607 474.5,-388.607\" stroke=\"black\"/>\n",
       "</g>\n",
       "<!-- 2103642207120 -->\n",
       "<g class=\"node\" id=\"node5\"><title>2103642207120</title>\n",
       "<polygon fill=\"none\" points=\"301.5,-249.5 301.5,-295.5 640.5,-295.5 640.5,-249.5 301.5,-249.5\" stroke=\"black\"/>\n",
       "<text font-family=\"Times New Roman,serif\" font-size=\"14.00\" text-anchor=\"middle\" x=\"391\" y=\"-268.8\">primarycap_squash: Lambda</text>\n",
       "<polyline fill=\"none\" points=\"480.5,-249.5 480.5,-295.5 \" stroke=\"black\"/>\n",
       "<text font-family=\"Times New Roman,serif\" font-size=\"14.00\" text-anchor=\"middle\" x=\"508.5\" y=\"-280.3\">input:</text>\n",
       "<polyline fill=\"none\" points=\"480.5,-272.5 536.5,-272.5 \" stroke=\"black\"/>\n",
       "<text font-family=\"Times New Roman,serif\" font-size=\"14.00\" text-anchor=\"middle\" x=\"508.5\" y=\"-257.3\">output:</text>\n",
       "<polyline fill=\"none\" points=\"536.5,-249.5 536.5,-295.5 \" stroke=\"black\"/>\n",
       "<text font-family=\"Times New Roman,serif\" font-size=\"14.00\" text-anchor=\"middle\" x=\"588.5\" y=\"-280.3\">(None, 1152, 8)</text>\n",
       "<polyline fill=\"none\" points=\"536.5,-272.5 640.5,-272.5 \" stroke=\"black\"/>\n",
       "<text font-family=\"Times New Roman,serif\" font-size=\"14.00\" text-anchor=\"middle\" x=\"588.5\" y=\"-257.3\">(None, 1152, 8)</text>\n",
       "</g>\n",
       "<!-- 2103678708536&#45;&gt;2103642207120 -->\n",
       "<g class=\"edge\" id=\"edge4\"><title>2103678708536-&gt;2103642207120</title>\n",
       "<path d=\"M471,-332.366C471,-324.152 471,-314.658 471,-305.725\" fill=\"none\" stroke=\"black\"/>\n",
       "<polygon fill=\"black\" points=\"474.5,-305.607 471,-295.607 467.5,-305.607 474.5,-305.607\" stroke=\"black\"/>\n",
       "</g>\n",
       "<!-- 2103642208688 -->\n",
       "<g class=\"node\" id=\"node6\"><title>2103642208688</title>\n",
       "<polygon fill=\"none\" points=\"316,-166.5 316,-212.5 626,-212.5 626,-166.5 316,-166.5\" stroke=\"black\"/>\n",
       "<text font-family=\"Times New Roman,serif\" font-size=\"14.00\" text-anchor=\"middle\" x=\"391\" y=\"-185.8\">digitcaps: CapsuleLayer</text>\n",
       "<polyline fill=\"none\" points=\"466,-166.5 466,-212.5 \" stroke=\"black\"/>\n",
       "<text font-family=\"Times New Roman,serif\" font-size=\"14.00\" text-anchor=\"middle\" x=\"494\" y=\"-197.3\">input:</text>\n",
       "<polyline fill=\"none\" points=\"466,-189.5 522,-189.5 \" stroke=\"black\"/>\n",
       "<text font-family=\"Times New Roman,serif\" font-size=\"14.00\" text-anchor=\"middle\" x=\"494\" y=\"-174.3\">output:</text>\n",
       "<polyline fill=\"none\" points=\"522,-166.5 522,-212.5 \" stroke=\"black\"/>\n",
       "<text font-family=\"Times New Roman,serif\" font-size=\"14.00\" text-anchor=\"middle\" x=\"574\" y=\"-197.3\">(None, 1152, 8)</text>\n",
       "<polyline fill=\"none\" points=\"522,-189.5 626,-189.5 \" stroke=\"black\"/>\n",
       "<text font-family=\"Times New Roman,serif\" font-size=\"14.00\" text-anchor=\"middle\" x=\"574\" y=\"-174.3\">(None, 10, 16)</text>\n",
       "</g>\n",
       "<!-- 2103642207120&#45;&gt;2103642208688 -->\n",
       "<g class=\"edge\" id=\"edge5\"><title>2103642207120-&gt;2103642208688</title>\n",
       "<path d=\"M471,-249.366C471,-241.152 471,-231.658 471,-222.725\" fill=\"none\" stroke=\"black\"/>\n",
       "<polygon fill=\"black\" points=\"474.5,-222.607 471,-212.607 467.5,-222.607 474.5,-222.607\" stroke=\"black\"/>\n",
       "</g>\n",
       "<!-- 2103642207176 -->\n",
       "<g class=\"node\" id=\"node8\"><title>2103642207176</title>\n",
       "<polygon fill=\"none\" points=\"0,-83.5 0,-129.5 328,-129.5 328,-83.5 0,-83.5\" stroke=\"black\"/>\n",
       "<text font-family=\"Times New Roman,serif\" font-size=\"14.00\" text-anchor=\"middle\" x=\"49\" y=\"-102.8\">mask_1: Mask</text>\n",
       "<polyline fill=\"none\" points=\"98,-83.5 98,-129.5 \" stroke=\"black\"/>\n",
       "<text font-family=\"Times New Roman,serif\" font-size=\"14.00\" text-anchor=\"middle\" x=\"126\" y=\"-114.3\">input:</text>\n",
       "<polyline fill=\"none\" points=\"98,-106.5 154,-106.5 \" stroke=\"black\"/>\n",
       "<text font-family=\"Times New Roman,serif\" font-size=\"14.00\" text-anchor=\"middle\" x=\"126\" y=\"-91.3\">output:</text>\n",
       "<polyline fill=\"none\" points=\"154,-83.5 154,-129.5 \" stroke=\"black\"/>\n",
       "<text font-family=\"Times New Roman,serif\" font-size=\"14.00\" text-anchor=\"middle\" x=\"241\" y=\"-114.3\">[(None, 10, 16), (None, 10)]</text>\n",
       "<polyline fill=\"none\" points=\"154,-106.5 328,-106.5 \" stroke=\"black\"/>\n",
       "<text font-family=\"Times New Roman,serif\" font-size=\"14.00\" text-anchor=\"middle\" x=\"241\" y=\"-91.3\">(None, 160)</text>\n",
       "</g>\n",
       "<!-- 2103642208688&#45;&gt;2103642207176 -->\n",
       "<g class=\"edge\" id=\"edge6\"><title>2103642208688-&gt;2103642207176</title>\n",
       "<path d=\"M387.516,-166.473C347.244,-155.848 298.788,-143.063 257.302,-132.117\" fill=\"none\" stroke=\"black\"/>\n",
       "<polygon fill=\"black\" points=\"258.029,-128.689 247.467,-129.522 256.243,-135.458 258.029,-128.689\" stroke=\"black\"/>\n",
       "</g>\n",
       "<!-- 2103687007144 -->\n",
       "<g class=\"node\" id=\"node9\"><title>2103687007144</title>\n",
       "<polygon fill=\"none\" points=\"346,-83.5 346,-129.5 604,-129.5 604,-83.5 346,-83.5\" stroke=\"black\"/>\n",
       "<text font-family=\"Times New Roman,serif\" font-size=\"14.00\" text-anchor=\"middle\" x=\"398\" y=\"-102.8\">capsnet: Length</text>\n",
       "<polyline fill=\"none\" points=\"450,-83.5 450,-129.5 \" stroke=\"black\"/>\n",
       "<text font-family=\"Times New Roman,serif\" font-size=\"14.00\" text-anchor=\"middle\" x=\"478\" y=\"-114.3\">input:</text>\n",
       "<polyline fill=\"none\" points=\"450,-106.5 506,-106.5 \" stroke=\"black\"/>\n",
       "<text font-family=\"Times New Roman,serif\" font-size=\"14.00\" text-anchor=\"middle\" x=\"478\" y=\"-91.3\">output:</text>\n",
       "<polyline fill=\"none\" points=\"506,-83.5 506,-129.5 \" stroke=\"black\"/>\n",
       "<text font-family=\"Times New Roman,serif\" font-size=\"14.00\" text-anchor=\"middle\" x=\"555\" y=\"-114.3\">(None, 10, 16)</text>\n",
       "<polyline fill=\"none\" points=\"506,-106.5 604,-106.5 \" stroke=\"black\"/>\n",
       "<text font-family=\"Times New Roman,serif\" font-size=\"14.00\" text-anchor=\"middle\" x=\"555\" y=\"-91.3\">(None, 10)</text>\n",
       "</g>\n",
       "<!-- 2103642208688&#45;&gt;2103687007144 -->\n",
       "<g class=\"edge\" id=\"edge8\"><title>2103642208688-&gt;2103687007144</title>\n",
       "<path d=\"M472.093,-166.366C472.499,-158.152 472.968,-148.658 473.409,-139.725\" fill=\"none\" stroke=\"black\"/>\n",
       "<polygon fill=\"black\" points=\"476.911,-139.767 473.908,-129.607 469.919,-139.422 476.911,-139.767\" stroke=\"black\"/>\n",
       "</g>\n",
       "<!-- 2103641993168 -->\n",
       "<g class=\"node\" id=\"node7\"><title>2103641993168</title>\n",
       "<polygon fill=\"none\" points=\"34.5,-166.5 34.5,-212.5 293.5,-212.5 293.5,-166.5 34.5,-166.5\" stroke=\"black\"/>\n",
       "<text font-family=\"Times New Roman,serif\" font-size=\"14.00\" text-anchor=\"middle\" x=\"97.5\" y=\"-185.8\">input_5: InputLayer</text>\n",
       "<polyline fill=\"none\" points=\"160.5,-166.5 160.5,-212.5 \" stroke=\"black\"/>\n",
       "<text font-family=\"Times New Roman,serif\" font-size=\"14.00\" text-anchor=\"middle\" x=\"188.5\" y=\"-197.3\">input:</text>\n",
       "<polyline fill=\"none\" points=\"160.5,-189.5 216.5,-189.5 \" stroke=\"black\"/>\n",
       "<text font-family=\"Times New Roman,serif\" font-size=\"14.00\" text-anchor=\"middle\" x=\"188.5\" y=\"-174.3\">output:</text>\n",
       "<polyline fill=\"none\" points=\"216.5,-166.5 216.5,-212.5 \" stroke=\"black\"/>\n",
       "<text font-family=\"Times New Roman,serif\" font-size=\"14.00\" text-anchor=\"middle\" x=\"255\" y=\"-197.3\">(None, 10)</text>\n",
       "<polyline fill=\"none\" points=\"216.5,-189.5 293.5,-189.5 \" stroke=\"black\"/>\n",
       "<text font-family=\"Times New Roman,serif\" font-size=\"14.00\" text-anchor=\"middle\" x=\"255\" y=\"-174.3\">(None, 10)</text>\n",
       "</g>\n",
       "<!-- 2103641993168&#45;&gt;2103642207176 -->\n",
       "<g class=\"edge\" id=\"edge7\"><title>2103641993168-&gt;2103642207176</title>\n",
       "<path d=\"M164,-166.366C164,-158.152 164,-148.658 164,-139.725\" fill=\"none\" stroke=\"black\"/>\n",
       "<polygon fill=\"black\" points=\"167.5,-139.607 164,-129.607 160.5,-139.607 167.5,-139.607\" stroke=\"black\"/>\n",
       "</g>\n",
       "<!-- 2103686168248 -->\n",
       "<g class=\"node\" id=\"node10\"><title>2103686168248</title>\n",
       "<polygon fill=\"none\" points=\"17,-0.5 17,-46.5 311,-46.5 311,-0.5 17,-0.5\" stroke=\"black\"/>\n",
       "<text font-family=\"Times New Roman,serif\" font-size=\"14.00\" text-anchor=\"middle\" x=\"80\" y=\"-19.8\">decoder: Sequential</text>\n",
       "<polyline fill=\"none\" points=\"143,-0.5 143,-46.5 \" stroke=\"black\"/>\n",
       "<text font-family=\"Times New Roman,serif\" font-size=\"14.00\" text-anchor=\"middle\" x=\"171\" y=\"-31.3\">input:</text>\n",
       "<polyline fill=\"none\" points=\"143,-23.5 199,-23.5 \" stroke=\"black\"/>\n",
       "<text font-family=\"Times New Roman,serif\" font-size=\"14.00\" text-anchor=\"middle\" x=\"171\" y=\"-8.3\">output:</text>\n",
       "<polyline fill=\"none\" points=\"199,-0.5 199,-46.5 \" stroke=\"black\"/>\n",
       "<text font-family=\"Times New Roman,serif\" font-size=\"14.00\" text-anchor=\"middle\" x=\"255\" y=\"-31.3\">(None, 160)</text>\n",
       "<polyline fill=\"none\" points=\"199,-23.5 311,-23.5 \" stroke=\"black\"/>\n",
       "<text font-family=\"Times New Roman,serif\" font-size=\"14.00\" text-anchor=\"middle\" x=\"255\" y=\"-8.3\">(None, 28, 28, 1)</text>\n",
       "</g>\n",
       "<!-- 2103642207176&#45;&gt;2103686168248 -->\n",
       "<g class=\"edge\" id=\"edge9\"><title>2103642207176-&gt;2103686168248</title>\n",
       "<path d=\"M164,-83.3664C164,-75.1516 164,-65.6579 164,-56.7252\" fill=\"none\" stroke=\"black\"/>\n",
       "<polygon fill=\"black\" points=\"167.5,-56.6068 164,-46.6068 160.5,-56.6069 167.5,-56.6068\" stroke=\"black\"/>\n",
       "</g>\n",
       "</g>\n",
       "</svg>"
      ],
      "text/plain": [
       "<IPython.core.display.SVG object>"
      ]
     },
     "metadata": {},
     "output_type": "display_data"
    }
   ],
   "source": [
    "from IPython.display import SVG, display\n",
    "from keras.utils.vis_utils import model_to_dot\n",
    "\n",
    "display(SVG(model_to_dot(train_model,show_layer_names=True, show_shapes=True).create(prog='dot', format='svg')))\n"
   ]
  },
  {
   "cell_type": "code",
   "execution_count": null,
   "metadata": {
    "scrolled": true
   },
   "outputs": [],
   "source": [
    "import numpy as np\n",
    "import keras\n",
    "from tqdm import tqdm\n",
    "import matplotlib.pyplot as plt\n",
    "import os\n",
    "from keras import callbacks\n",
    "dim=(1, 1)\n",
    "figsize=(2, 2)\n",
    "class SaveImage(keras.callbacks.Callback):\n",
    "    def __init__(self):\n",
    "        self.epoch_num=5\n",
    "        self.letter = np.zeros((10,10))\n",
    "        for i in range(10):\n",
    "            self.letter[i][i] = 1\n",
    "    def on_epoch_end(self, batch,epoch, logs={}):\n",
    "#         print(type(str(epoch['batch'])))\n",
    "        \n",
    "        plt.figure(figsize=figsize)\n",
    "        for i in range(50):            \n",
    "            out = train_model.predict([x_train[i].reshape(-1,28,28,1),self.letter[0].reshape(-1,10)])\n",
    "            out_num = np.argmax(out[0])\n",
    "#             print(out_num)\n",
    "#             print(self.letter[out_num].reshape(-1,10))\n",
    "            out = train_model.predict([x_train[i].reshape(-1,28,28,1),self.letter[out_num].reshape(-1,10)])\n",
    "            \n",
    "            plt.subplot(dim[0], dim[1], 1)\n",
    "#             print(\"------\"+str(out[1][0].shape))\n",
    "            plt.imshow(out[1][0].reshape(28,28), interpolation='nearest', cmap='gray_r')\n",
    "            plt.xticks([]), plt.yticks([]) \n",
    "            save_dir_epoch = 'images/reconstruct_capsulenet/epoch_'+str(self.epoch_num)+''\n",
    "#             if not os.path.exists(save_dir_epoch):\n",
    "#                 os.makedirs(save_dir_epoch)\n",
    "            plt.savefig(save_dir_epoch+'/caps_'+str(i)+'_image.png')\n",
    "        self.epoch_num = self.epoch_num+1\n",
    "\n",
    "\n",
    "batch_size = 100\n",
    "epochs = 20\n",
    "save_dir = './train_results'\n",
    "debug = 0\n",
    "\n",
    "saveimg = SaveImage()\n",
    "if not os.path.exists(save_dir):\n",
    "        os.makedirs(save_dir)\n",
    "log = callbacks.CSVLogger(save_dir + '/log.csv')\n",
    "tb = callbacks.TensorBoard(log_dir=save_dir + '/tensorboard-logs',\n",
    "                               batch_size=batch_size, histogram_freq=debug)\n",
    "checkpoint = callbacks.ModelCheckpoint(save_dir + '/weights-{epoch:02d}.h5', monitor='val_capsnet_acc',\n",
    "                                       save_best_only=True, save_weights_only=True, verbose=1)\n",
    "lr_decay = callbacks.LearningRateScheduler(schedule=lambda epoch: lr * (0.9 ** epoch))\n",
    "\n",
    "model_hist = train_model.fit([x_train, y_train], [y_train, x_train], batch_size=batch_size, epochs=epochs,\n",
    "              validation_data=[[x_test, y_test], [y_test, x_test]],verbose=1,initial_epoch = 5,  callbacks=[log, saveimg, checkpoint, lr_decay])"
   ]
  },
  {
   "cell_type": "code",
   "execution_count": 9,
   "metadata": {},
   "outputs": [
    {
     "data": {
      "text/plain": [
       "<matplotlib.axes._subplots.AxesSubplot at 0x1e9c5805d30>"
      ]
     },
     "execution_count": 9,
     "metadata": {},
     "output_type": "execute_result"
    },
    {
     "data": {
      "image/png": "[encoded data removed]",
      "text/plain": [
       "<matplotlib.figure.Figure at 0x1e8c365e978>"
      ]
     },
     "metadata": {},
     "output_type": "display_data"
    }
   ],
   "source": [
    "import pandas as pd\n",
    "%matplotlib inline\n",
    "data = pd.DataFrame.from_csv('train_results/logBackup.csv')\n",
    "data.dropna(how=\"all\", inplace=True) \n",
    "data.plot(figsize=(10,10))"
   ]
  },
  {
   "cell_type": "code",
   "execution_count": null,
   "metadata": {
    "collapsed": true
   },
   "outputs": [],
   "source": [
    "train_model.load_weights(\"train_results/weights-05.h5\")"
   ]
  },
  {
   "cell_type": "code",
   "execution_count": null,
   "metadata": {
    "collapsed": true
   },
   "outputs": [],
   "source": [
    "# import cv2\n",
    "# for i in range(0,100):    \n",
    "out = train_model.predict([x_train[0].reshape(-1,28,28,1),letter[0].reshape(-1,10)])\n",
    "#     print(str(i)+\"->\"+str(np.argmax(out[0])))\n",
    "    \n",
    "# data = np.zeros((10,28,28,1))\n",
    "# data[0] = x_train[2]\n",
    "# data[5] = x_train[0]\n",
    "# data[2] = x_train[6]\n",
    "# data[7] = x_train[11]\n",
    "# data[4] = x_train[16]\n",
    "# data"
   ]
  },
  {
   "cell_type": "code",
   "execution_count": null,
   "metadata": {
    "collapsed": true
   },
   "outputs": [],
   "source": [
    "np.argmax(out[0])"
   ]
  },
  {
   "cell_type": "code",
   "execution_count": null,
   "metadata": {
    "collapsed": true
   },
   "outputs": [],
   "source": [
    "import cv2\n",
    "cv2.imshow('img',out[1][0])\n",
    "cv2.waitKey(0)"
   ]
  },
  {
   "cell_type": "code",
   "execution_count": null,
   "metadata": {
    "collapsed": true
   },
   "outputs": [],
   "source": [
    "\n",
    "plt.imshow(out[1][0].reshape(28,28), interpolation='nearest', cmap='gray')\n",
    "plt.xticks([]), plt.yticks([]) \n",
    "plt.savefig('images/reconstruct_capsulenet/caps_.png')\n"
   ]
  },
  {
   "cell_type": "code",
   "execution_count": null,
   "metadata": {
    "collapsed": true
   },
   "outputs": [],
   "source": [
    "out = train_model.predict([x_train[0].reshape(-1,28,28,1),letter[8].reshape(-1,10)])"
   ]
  },
  {
   "cell_type": "code",
   "execution_count": null,
   "metadata": {
    "collapsed": true
   },
   "outputs": [],
   "source": [
    "np.argmax(out[0])"
   ]
  },
  {
   "cell_type": "code",
   "execution_count": null,
   "metadata": {
    "collapsed": true
   },
   "outputs": [],
   "source": [
    "letter[8]"
   ]
  },
  {
   "cell_type": "code",
   "execution_count": null,
   "metadata": {
    "collapsed": true
   },
   "outputs": [],
   "source": [
    "letter = np.zeros((10,10))\n",
    "for i in range(10):\n",
    "        letter[i][i] = 1\n",
    "letter[9]"
   ]
  },
  {
   "cell_type": "code",
   "execution_count": null,
   "metadata": {
    "collapsed": true
   },
   "outputs": [],
   "source": [
    "from PIL import Image\n",
    "import os, sys\n",
    "import numpy as np\n",
    "os.chdir('D:/MNIST-GAN-BASIC/images/reconstruct_capsulenet/Selected/epoch_8')\n",
    "list_im =  ['0.png', '1.png', '6.png','7.png','9.png']\n",
    "imgs    = [ Image.open(i) for i in list_im ]\n",
    "# pick the image which is the smallest, and resize the others to match it (can be arbitrary image shape here)\n",
    "min_shape = sorted( [(np.sum(i.size), i.size ) for i in imgs])[0][1]\n",
    "imgs_comb = np.hstack( (np.asarray( i.resize(min_shape) ) for i in imgs ) )\n",
    "\n",
    "# save that beautiful picture\n",
    "imgs_comb = Image.fromarray( imgs_comb)\n",
    "imgs_comb.save( 'D:/MNIST-GAN-BASIC/images/reconstruct_capsulenet/Selected/epoch_8/epoch.jpg' )    \n"
   ]
  },
  {
   "cell_type": "code",
   "execution_count": null,
   "metadata": {
    "collapsed": true
   },
   "outputs": [],
   "source": [
    "# import keras\n",
    "# counter = 995\n",
    "# generator = keras.models.load_model(\"models/gan_cnn/gan_generator_epoch_50.h5\")\n",
    "# examples=1\n",
    "# noise = np.random.normal(0, 1, size=[examples, randomDim])\n",
    "\n",
    "# generatedImages = generator.predict(noise)\n",
    "# generatedImages = generatedImages.reshape(examples, 28, 28)\n",
    "# # generatedImages.shape\n",
    "# pl.subplot(2, 2, 1)\n",
    "# pl.figure(figsize=(2,2))\n",
    "# pl.imshow(generatedImages[0], cmap = 'gray', interpolation = 'bicubic')\n",
    "# pl.xticks([]), plt.yticks([])  # to hide tick values on X and Y axis    \n",
    "\n",
    "# counter=counter-1\n",
    "# pl.tight_layout()\n",
    "# pl.savefig('images/gan_cnn/digits/epoch_50/random_%d.png' % counter)\n",
    "# randomDim = 100\n",
    "# examples=1\n",
    "# noise = np.random.normal(0, 1, size=[examples, randomDim])\n",
    "\n",
    "# generatedImages = generator.predict(noise)\n",
    "# generatedImages = generatedImages.reshape(examples, 28, 28)\n",
    "# # generatedImages.shape\n",
    "# pl.subplot(2, 2, 1)\n",
    "# pl.figure(figsize=(2,2))\n",
    "# pl.imshow(generatedImages[0], cmap = 'gray', interpolation = 'bicubic')\n",
    "# pl.xticks([]), plt.yticks([])  # to hide tick values on X and Y axis    \n",
    "\n",
    "# counter=counter-1\n",
    "# pl.tight_layout()\n",
    "# pl.savefig('images/gan_cnn/digits/epoch_50/random_%d.png' % counter)"
   ]
  },
  {
   "cell_type": "code",
   "execution_count": null,
   "metadata": {
    "collapsed": true
   },
   "outputs": [],
   "source": [
    "# from PIL import Image\n",
    "# import os, sys\n",
    "# import numpy as np\n",
    "\n",
    "# os.chdir('/images/gan_cnn/epoch_50')\n",
    "# list_im =  ['0.png', '3.png', '6.png','7.png','8.png']\n",
    "# imgs    = [ Image.open(i) for i in list_im ]\n",
    "# # pick the image which is the smallest, and resize the others to match it (can be arbitrary image shape here)\n",
    "# min_shape = sorted( [(np.sum(i.size), i.size ) for i in imgs])[0][1]\n",
    "# imgs_comb = np.hstack( (np.asarray( i.resize(min_shape) ) for i in imgs ) )\n",
    "\n",
    "# # save that beautiful picture\n",
    "# imgs_comb = Image.fromarray( imgs_comb)\n",
    "# imgs_comb.save( '/images/gan_cnn/digits/epoch_50.jpg' )"
   ]
  }
 ],
 "metadata": {
  "kernelspec": {
   "display_name": "Python3 (tf-gpu)",
   "language": "python",
   "name": "tf-gpu"
  },
  "language_info": {
   "codemirror_mode": {
    "name": "ipython",
    "version": 3
   },
   "file_extension": ".py",
   "mimetype": "text/x-python",
   "name": "python",
   "nbconvert_exporter": "python",
   "pygments_lexer": "ipython3",
   "version": "3.6.2"
  }
 },
 "nbformat": 4,
 "nbformat_minor": 2
}
